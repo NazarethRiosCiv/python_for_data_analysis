{
 "cells": [
  {
   "cell_type": "code",
   "execution_count": 1,
   "id": "f58992d2",
   "metadata": {},
   "outputs": [],
   "source": [
    "#### Chapter 2: Python Language Basics ####"
   ]
  },
  {
   "cell_type": "markdown",
   "id": "81c7c00a",
   "metadata": {},
   "source": [
    "## IPython and Jupter Introduction"
   ]
  },
  {
   "cell_type": "code",
   "execution_count": 2,
   "id": "e4908b0c",
   "metadata": {},
   "outputs": [],
   "source": [
    "# Python is an interpreted language. The Python interpreter runs a program by \n",
    "# executing one statement at a time. "
   ]
  },
  {
   "cell_type": "code",
   "execution_count": 3,
   "id": "7b763026",
   "metadata": {},
   "outputs": [],
   "source": [
    "# To run a Python program from the terminal:\n",
    "# > python hello_world.py"
   ]
  },
  {
   "cell_type": "code",
   "execution_count": 4,
   "id": "7c268e6e",
   "metadata": {},
   "outputs": [
    {
     "name": "stdout",
     "output_type": "stream",
     "text": [
      "Hello World!\n"
     ]
    }
   ],
   "source": [
    "# When using Jupyter Notebooks, the '%run' command executes the code in a specified\n",
    "# file in the same process, enabling you to explore the results interactively:\n",
    "%run hello_world.py"
   ]
  },
  {
   "cell_type": "code",
   "execution_count": 5,
   "id": "ab048354",
   "metadata": {},
   "outputs": [
    {
     "data": {
      "text/plain": [
       "{0: -0.9529894525535687,\n",
       " 1: 0.6858223154177285,\n",
       " 2: 1.2201846329618784,\n",
       " 3: 0.6550141482014896,\n",
       " 4: 1.5374937912591091,\n",
       " 5: 0.6952841277381088,\n",
       " 6: -1.829119348022283}"
      ]
     },
     "execution_count": 5,
     "metadata": {},
     "output_type": "execute_result"
    }
   ],
   "source": [
    "# When you type just a variable into IPython, it renders a string representation\n",
    "# of the object:\n",
    "import numpy as np\n",
    "data = {i: np.random.randn() for i in range(7)}\n",
    "data"
   ]
  },
  {
   "cell_type": "code",
   "execution_count": 6,
   "id": "06048ed5",
   "metadata": {},
   "outputs": [
    {
     "name": "stdout",
     "output_type": "stream",
     "text": [
      "{0: -0.9529894525535687, 1: 0.6858223154177285, 2: 1.2201846329618784, 3: 0.6550141482014896, 4: 1.5374937912591091, 5: 0.6952841277381088, 6: -1.829119348022283}\n"
     ]
    }
   ],
   "source": [
    "# With IPython, many kinds of Python objects are formatted to be more readable\n",
    "# or pretty-printed, which is distinct from normal printing with print():\n",
    "print(data)"
   ]
  },
  {
   "cell_type": "code",
   "execution_count": 7,
   "id": "506251e4",
   "metadata": {},
   "outputs": [],
   "source": [
    "# One of the major components of the Jupyter project is the notebook, a type of\n",
    "# interactive document for code, markup text, data visualizations, and other\n",
    "# outputs. The notebook interacts with kernels, which are implementations of \n",
    "# the Jupyter interactive computing protocol in any number of languages. \n",
    "# \n",
    "# To start up Jupyter, run the following command in the terminal:\n",
    "# > jupyter notebook"
   ]
  },
  {
   "cell_type": "code",
   "execution_count": 8,
   "id": "ae33d6eb",
   "metadata": {},
   "outputs": [],
   "source": [
    "# Using a question mark (?) before or after a variable will display some general\n",
    "# information about the object:\n",
    "data?"
   ]
  },
  {
   "cell_type": "code",
   "execution_count": 9,
   "id": "0014268c",
   "metadata": {},
   "outputs": [],
   "source": [
    "def add_numbers(a, b):\n",
    "    '''\n",
    "    Add two numbers together\n",
    "    \n",
    "    Returns\n",
    "    -------\n",
    "    the_sum : type of arguments\n",
    "    '''\n",
    "    return a + b\n",
    "\n",
    "# Using '?' will also describe a function:\n",
    "add_numbers?\n",
    "\n",
    "# Using '??' will also show the function's source code if possible:\n",
    "add_numbers??"
   ]
  },
  {
   "cell_type": "code",
   "execution_count": 10,
   "id": "6acebf17",
   "metadata": {},
   "outputs": [],
   "source": [
    "# The question mark has a final usage, which is for searching the IPython namespace.\n",
    "# A number of characters with a wildcard (*) will show all names matching the expression:\n",
    "np.*load*?"
   ]
  },
  {
   "cell_type": "code",
   "execution_count": 11,
   "id": "3fa82b29",
   "metadata": {},
   "outputs": [
    {
     "name": "stdout",
     "output_type": "stream",
     "text": [
      "7.5\n"
     ]
    }
   ],
   "source": [
    "# You can run any Python file inside the IPython environment using the '%run' command. The \n",
    "# script is run in an empty namespace (with no imports or other variables defined) so that\n",
    "# the behavior should be identical to running the program on the command line. All of the \n",
    "# variables defined in the file will then be accessible (different from importing):\n",
    "%run ipython_script_test.py\n",
    "print(c)"
   ]
  },
  {
   "cell_type": "code",
   "execution_count": null,
   "id": "d836204d",
   "metadata": {},
   "outputs": [],
   "source": [
    "%load ipython_script_test.py"
   ]
  },
  {
   "cell_type": "code",
   "execution_count": 12,
   "id": "d8a5ff80",
   "metadata": {},
   "outputs": [],
   "source": [
    "# IPython's special commands (which are not built into Python itself) are known as magic \n",
    "# commands. These are designed to facilitate command tasks. A magic command is any command\n",
    "# prefaced with a '%' symbol."
   ]
  },
  {
   "cell_type": "code",
   "execution_count": 13,
   "id": "243bb171",
   "metadata": {},
   "outputs": [
    {
     "name": "stdout",
     "output_type": "stream",
     "text": [
      "182 ns ± 14.4 ns per loop (mean ± std. dev. of 7 runs, 10000000 loops each)\n"
     ]
    }
   ],
   "source": [
    "# As an example, you can check the execution time of any Python statement using '%timeit':\n",
    "%timeit f(1, 2, 3)"
   ]
  },
  {
   "cell_type": "code",
   "execution_count": 14,
   "id": "c35aa664",
   "metadata": {},
   "outputs": [],
   "source": [
    "# Magic commands can be viewed as command-line programs to be run within the IPython system.\n",
    "# Many of them have additional options, which can be viewed using '?':\n",
    "%debug?"
   ]
  },
  {
   "cell_type": "code",
   "execution_count": 15,
   "id": "36ed77dd",
   "metadata": {},
   "outputs": [
    {
     "name": "stdout",
     "output_type": "stream",
     "text": [
      "H:\\Personal\\Python_for_Data_Analysis\n"
     ]
    }
   ],
   "source": [
    "# Some magic functions behave like Python functions and their output can be assigned to a \n",
    "# variable, like:\n",
    "foo = %pwd\n",
    "print(foo)"
   ]
  },
  {
   "cell_type": "code",
   "execution_count": 16,
   "id": "50b64b3a",
   "metadata": {},
   "outputs": [],
   "source": [
    "# You can explore all the possible magic commands with:\n",
    "%quickref"
   ]
  },
  {
   "cell_type": "code",
   "execution_count": 17,
   "id": "cadf7005",
   "metadata": {},
   "outputs": [
    {
     "name": "stdout",
     "output_type": "stream",
     "text": [
      "Using matplotlib backend: Qt5Agg\n"
     ]
    },
    {
     "data": {
      "image/png": "[encoded data removed]",
      "text/plain": [
       "<Figure size 432x288 with 1 Axes>"
      ]
     },
     "metadata": {
      "needs_background": "light"
     },
     "output_type": "display_data"
    }
   ],
   "source": [
    "# The '%matplotlib' magic function configures its integration with the IPython shell:\n",
    "%matplotlib\n",
    "%matplotlib inline\n",
    "import matplotlib.pyplot as plt\n",
    "plt.plot(np.random.randn(50).cumsum())\n",
    "plt.show()"
   ]
  },
  {
   "cell_type": "markdown",
   "id": "c4f5b9b2",
   "metadata": {},
   "source": [
    "## Python Introduction"
   ]
  },
  {
   "cell_type": "code",
   "execution_count": 18,
   "id": "d25864d3",
   "metadata": {},
   "outputs": [],
   "source": [
    "# When assigning a variable in Python, you are creating a reference to the object\n",
    "# on the right-hand side. Consider a list of integers:\n",
    "a = [1, 2, 3]"
   ]
  },
  {
   "cell_type": "code",
   "execution_count": 19,
   "id": "60bdc4f6",
   "metadata": {},
   "outputs": [],
   "source": [
    "# Suppose we assign a to a new variable b:\n",
    "b = a"
   ]
  },
  {
   "cell_type": "code",
   "execution_count": 20,
   "id": "fa0aa79b",
   "metadata": {},
   "outputs": [
    {
     "name": "stdout",
     "output_type": "stream",
     "text": [
      "[1, 2, 3, 4]\n"
     ]
    }
   ],
   "source": [
    "# In some languages, this would cause the data to be copied. In Python, a and b now\n",
    "# refer to the same object (the original list):\n",
    "a.append(4)\n",
    "print(b)"
   ]
  },
  {
   "cell_type": "code",
   "execution_count": 21,
   "id": "613862e9",
   "metadata": {},
   "outputs": [
    {
     "name": "stdout",
     "output_type": "stream",
     "text": [
      "[1, 2, 3, 4, 5]\n"
     ]
    }
   ],
   "source": [
    "# When you pass objects as arguments to a function, new local variables are created\n",
    "# referencing the original objects without any copying. If you bind a new object to\n",
    "# a variable inside a function, that change will not be reflected in the parent scope.\n",
    "# It is therefore possible to alter the internals of a mutable argument:\n",
    "def append_element(some_list, element):\n",
    "    some_list.append(element)\n",
    "    \n",
    "append_element(a, 5)\n",
    "print(a)"
   ]
  },
  {
   "cell_type": "code",
   "execution_count": 22,
   "id": "05de4cad",
   "metadata": {},
   "outputs": [
    {
     "data": {
      "text/plain": [
       "int"
      ]
     },
     "execution_count": 22,
     "metadata": {},
     "output_type": "execute_result"
    }
   ],
   "source": [
    "# In Python, object references have no type associated with them (they are dynamically typed):\n",
    "a = 5\n",
    "type(a)"
   ]
  },
  {
   "cell_type": "code",
   "execution_count": 23,
   "id": "1dc8d1de",
   "metadata": {},
   "outputs": [
    {
     "data": {
      "text/plain": [
       "str"
      ]
     },
     "execution_count": 23,
     "metadata": {},
     "output_type": "execute_result"
    }
   ],
   "source": [
    "a = 'foo'\n",
    "type(a)"
   ]
  },
  {
   "cell_type": "code",
   "execution_count": 24,
   "id": "624b77cc",
   "metadata": {},
   "outputs": [],
   "source": [
    "# Variables are names for objects within a particular namespace; the type information is stored\n",
    "# in the object itself. Python is a strongly typed language, which means that every object has \n",
    "# a specific type (or class), and implicit conversions will occur only in certain circumstances."
   ]
  },
  {
   "cell_type": "code",
   "execution_count": 25,
   "id": "258c9fa2",
   "metadata": {},
   "outputs": [],
   "source": [
    "# A float type\n",
    "a = 4.5   "
   ]
  },
  {
   "cell_type": "code",
   "execution_count": 26,
   "id": "babf8775",
   "metadata": {},
   "outputs": [],
   "source": [
    "# An int type\n",
    "b = 2"
   ]
  },
  {
   "cell_type": "code",
   "execution_count": 27,
   "id": "6aeb6191",
   "metadata": {},
   "outputs": [
    {
     "data": {
      "text/plain": [
       "6.5"
      ]
     },
     "execution_count": 27,
     "metadata": {},
     "output_type": "execute_result"
    }
   ],
   "source": [
    "# Natural conversion for addition\n",
    "a + b"
   ]
  },
  {
   "cell_type": "code",
   "execution_count": 28,
   "id": "35bc02b6",
   "metadata": {},
   "outputs": [
    {
     "data": {
      "text/plain": [
       "False"
      ]
     },
     "execution_count": 28,
     "metadata": {},
     "output_type": "execute_result"
    }
   ],
   "source": [
    "# You can check that an object is an instance of a particular type using the isinstance() function:\n",
    "isinstance(a, int)"
   ]
  },
  {
   "cell_type": "code",
   "execution_count": 29,
   "id": "f7ce0b3c",
   "metadata": {},
   "outputs": [
    {
     "data": {
      "text/plain": [
       "True"
      ]
     },
     "execution_count": 29,
     "metadata": {},
     "output_type": "execute_result"
    }
   ],
   "source": [
    "# You can pass a tuple of options to check across:\n",
    "isinstance(b, (int, float))"
   ]
  },
  {
   "cell_type": "code",
   "execution_count": 30,
   "id": "781a5901",
   "metadata": {},
   "outputs": [],
   "source": [
    "# Objects in Python typically have both attributes and methods:\n",
    "#    Attributes: other objects stored inside the object\n",
    "#    Methods: functions associated with an object that can have\n",
    "#             access to the object's internal data and attributes\n",
    "#\n",
    "# Both of these are accessed via the syntax obj.attribute_name or obj.method_name()"
   ]
  },
  {
   "cell_type": "code",
   "execution_count": 31,
   "id": "a6a3e433",
   "metadata": {},
   "outputs": [],
   "source": [
    "# Often you may not care about the type of an object but rather only whether is has certain\n",
    "# methods or behavior. This is sometimes called \"duck typing.\" For example, you can verify\n",
    "# that an object is iterable if it implemented the iterator protocol. For many objects, \n",
    "# this means it has a __iter__ method. An alternative way to check is:\n",
    "def is_iterable(obj):\n",
    "    try:\n",
    "        iter(obj)\n",
    "        return True\n",
    "    \n",
    "    except TypeError:\n",
    "        return False"
   ]
  },
  {
   "cell_type": "code",
   "execution_count": 32,
   "id": "d1a11c13",
   "metadata": {},
   "outputs": [
    {
     "data": {
      "text/plain": [
       "True"
      ]
     },
     "execution_count": 32,
     "metadata": {},
     "output_type": "execute_result"
    }
   ],
   "source": [
    "is_iterable('a string')"
   ]
  },
  {
   "cell_type": "code",
   "execution_count": 33,
   "id": "9c1d2971",
   "metadata": {},
   "outputs": [
    {
     "data": {
      "text/plain": [
       "False"
      ]
     },
     "execution_count": 33,
     "metadata": {},
     "output_type": "execute_result"
    }
   ],
   "source": [
    "is_iterable(5)"
   ]
  },
  {
   "cell_type": "code",
   "execution_count": 34,
   "id": "1835ac81",
   "metadata": {},
   "outputs": [],
   "source": [
    "# To check if two references refer to the same object, use the 'is' keyword. 'is not' is also\n",
    "# perfectly valid if you want to check that two objects are not the same:\n",
    "a = [1, 2, 3]\n",
    "b = a\n",
    "c = list(a)"
   ]
  },
  {
   "cell_type": "code",
   "execution_count": 35,
   "id": "db8a0a56",
   "metadata": {},
   "outputs": [
    {
     "data": {
      "text/plain": [
       "True"
      ]
     },
     "execution_count": 35,
     "metadata": {},
     "output_type": "execute_result"
    }
   ],
   "source": [
    "a is b"
   ]
  },
  {
   "cell_type": "code",
   "execution_count": 36,
   "id": "293690f9",
   "metadata": {},
   "outputs": [
    {
     "data": {
      "text/plain": [
       "True"
      ]
     },
     "execution_count": 36,
     "metadata": {},
     "output_type": "execute_result"
    }
   ],
   "source": [
    "a is not c"
   ]
  },
  {
   "cell_type": "code",
   "execution_count": 37,
   "id": "f6891158",
   "metadata": {},
   "outputs": [
    {
     "data": {
      "text/plain": [
       "True"
      ]
     },
     "execution_count": 37,
     "metadata": {},
     "output_type": "execute_result"
    }
   ],
   "source": [
    "# A very common use of 'is' and 'is not' is to check if a variable is 'None', since there is only\n",
    "# one instance of 'None':\n",
    "a = None\n",
    "a is None"
   ]
  },
  {
   "cell_type": "code",
   "execution_count": 38,
   "id": "6fef5100",
   "metadata": {},
   "outputs": [],
   "source": [
    "# Python has a small set of built-in types for handling numerical data, strings booleans, and\n",
    "# dates/times. These single value types are sometimes called scalar types:\n",
    "#\n",
    "# None: The Python 'null' value (only one instance of the None object exists)\n",
    "# str: String type; holds Unicode (UTF-8 encoded) strings\n",
    "# bytes: Raw ASCII bytes (or Unicode encoded as bytes)\n",
    "# float: Double-precision (64-bit) floating-point number\n",
    "# bool: A True or False value\n",
    "# int: arbitrary precision signed integer"
   ]
  },
  {
   "cell_type": "code",
   "execution_count": 39,
   "id": "0ebee569",
   "metadata": {},
   "outputs": [],
   "source": [
    "# The primary Python types for numbers are int and float. An int can store arbitrarily large\n",
    "# numbers:\n",
    "i = 17239871"
   ]
  },
  {
   "cell_type": "code",
   "execution_count": 40,
   "id": "2ac56bfc",
   "metadata": {},
   "outputs": [
    {
     "data": {
      "text/plain": [
       "26254519291092456596965462913230729701102721"
      ]
     },
     "execution_count": 40,
     "metadata": {},
     "output_type": "execute_result"
    }
   ],
   "source": [
    "i ** 6"
   ]
  },
  {
   "cell_type": "code",
   "execution_count": 41,
   "id": "3797e2a2",
   "metadata": {},
   "outputs": [],
   "source": [
    "# Floating-point numbers are represented with the Python float type. They can also be expressed\n",
    "# with scientific notation:\n",
    "f = 7.243\n",
    "g = 6.78e-5"
   ]
  },
  {
   "cell_type": "code",
   "execution_count": 42,
   "id": "4dcfaf6b",
   "metadata": {},
   "outputs": [],
   "source": [
    "# You can write string literals using either single or double quotes:\n",
    "a = 'one way of writing a string'\n",
    "b = \"another way\""
   ]
  },
  {
   "cell_type": "code",
   "execution_count": 43,
   "id": "59cfb4ca",
   "metadata": {},
   "outputs": [],
   "source": [
    "# For multiline strings:\n",
    "c = '''\n",
    "This is the first line.\n",
    "And this is the sencond.\n",
    "'''"
   ]
  },
  {
   "cell_type": "code",
   "execution_count": 44,
   "id": "b0b52f83",
   "metadata": {},
   "outputs": [
    {
     "data": {
      "text/plain": [
       "3"
      ]
     },
     "execution_count": 44,
     "metadata": {},
     "output_type": "execute_result"
    }
   ],
   "source": [
    "# Multiline strings actually contain the newline characters '\\n':\n",
    "c.count('\\n')"
   ]
  },
  {
   "cell_type": "code",
   "execution_count": 45,
   "id": "a99de3d2",
   "metadata": {},
   "outputs": [],
   "source": [
    "# Strings are immutable; you cannot modify a string, however there is a method that allows\n",
    "# you to substitute parts of a string:\n",
    "a = 'this is a string'\n",
    "b = a.replace('string', 'longer string')"
   ]
  },
  {
   "cell_type": "code",
   "execution_count": 46,
   "id": "ae08fef8",
   "metadata": {},
   "outputs": [
    {
     "data": {
      "text/plain": [
       "'this is a longer string'"
      ]
     },
     "execution_count": 46,
     "metadata": {},
     "output_type": "execute_result"
    }
   ],
   "source": [
    "b"
   ]
  },
  {
   "cell_type": "code",
   "execution_count": 47,
   "id": "68bc9bd9",
   "metadata": {},
   "outputs": [
    {
     "data": {
      "text/plain": [
       "'5'"
      ]
     },
     "execution_count": 47,
     "metadata": {},
     "output_type": "execute_result"
    }
   ],
   "source": [
    "# Many objects can be converted to a string:\n",
    "str(5)"
   ]
  },
  {
   "cell_type": "code",
   "execution_count": 48,
   "id": "14c94a8e",
   "metadata": {},
   "outputs": [
    {
     "name": "stdout",
     "output_type": "stream",
     "text": [
      "t\n",
      "e\n",
      "x\n",
      "t\n"
     ]
    }
   ],
   "source": [
    "# Strings are a sequence of Unicode characters and therefore can be treated like other sequences:\n",
    "for t in 'text':\n",
    "    print(t)"
   ]
  },
  {
   "cell_type": "code",
   "execution_count": 49,
   "id": "c58a53e4",
   "metadata": {},
   "outputs": [
    {
     "data": {
      "text/plain": [
       "['t', 'e', 'x', 't']"
      ]
     },
     "execution_count": 49,
     "metadata": {},
     "output_type": "execute_result"
    }
   ],
   "source": [
    "list('text')"
   ]
  },
  {
   "cell_type": "code",
   "execution_count": 50,
   "id": "f54d6605",
   "metadata": {},
   "outputs": [
    {
     "data": {
      "text/plain": [
       "'tex'"
      ]
     },
     "execution_count": 50,
     "metadata": {},
     "output_type": "execute_result"
    }
   ],
   "source": [
    "'text'[:3]"
   ]
  },
  {
   "cell_type": "code",
   "execution_count": 51,
   "id": "f0da8e1c",
   "metadata": {},
   "outputs": [],
   "source": [
    "# The backslash character is an escape character, meaning that it is used to specify special \n",
    "# characters like '\\n' for newline. To write a string literal with backslashes, you will\n",
    "# need to escape them:\n",
    "my_string = '\\\\this\\\\string\\\\has\\\\backslashes'"
   ]
  },
  {
   "cell_type": "code",
   "execution_count": 52,
   "id": "dfe9f0b4",
   "metadata": {},
   "outputs": [
    {
     "name": "stdout",
     "output_type": "stream",
     "text": [
      "\\this\\string\\has\\backslashes\n"
     ]
    }
   ],
   "source": [
    "print(my_string)"
   ]
  },
  {
   "cell_type": "code",
   "execution_count": 53,
   "id": "0e4036e3",
   "metadata": {},
   "outputs": [],
   "source": [
    "# If you have a string with lots of backslashes and no special characters, you can use a raw\n",
    "# string instead:\n",
    "my_string = r'\\this\\string\\has\\backslashes'"
   ]
  },
  {
   "cell_type": "code",
   "execution_count": 54,
   "id": "0c5ba6ad",
   "metadata": {},
   "outputs": [
    {
     "name": "stdout",
     "output_type": "stream",
     "text": [
      "\\this\\string\\has\\backslashes\n"
     ]
    }
   ],
   "source": [
    "print(my_string)"
   ]
  },
  {
   "cell_type": "code",
   "execution_count": 55,
   "id": "0762b854",
   "metadata": {},
   "outputs": [
    {
     "data": {
      "text/plain": [
       "'this is the first half and this is the second half.'"
      ]
     },
     "execution_count": 55,
     "metadata": {},
     "output_type": "execute_result"
    }
   ],
   "source": [
    "# Adding two strings together concatenates them and produces a new string:\n",
    "a = 'this is the first half '\n",
    "b = 'and this is the second half.'\n",
    "a + b"
   ]
  },
  {
   "cell_type": "code",
   "execution_count": 56,
   "id": "c8b10e89",
   "metadata": {},
   "outputs": [],
   "source": [
    "# String objects have a format method that can be used to substitute arguments:\n",
    "#\n",
    "# {0:.2f} means to format the first argument as a float with two decimal places\n",
    "# {1:s} means to format the second argument as a string\n",
    "# {2:d} means to format the third argument as an exact integer\n",
    "#\n",
    "template = '{0:.2f} {1:s} are worth US${2:d}'"
   ]
  },
  {
   "cell_type": "code",
   "execution_count": 57,
   "id": "8a25ac9c",
   "metadata": {},
   "outputs": [
    {
     "data": {
      "text/plain": [
       "'4.56 Argentine Pesos are worth US$1'"
      ]
     },
     "execution_count": 57,
     "metadata": {},
     "output_type": "execute_result"
    }
   ],
   "source": [
    "template.format(4.5560, 'Argentine Pesos', 1)"
   ]
  },
  {
   "cell_type": "code",
   "execution_count": 58,
   "id": "3e65fce1",
   "metadata": {},
   "outputs": [
    {
     "data": {
      "text/plain": [
       "bytes"
      ]
     },
     "execution_count": 58,
     "metadata": {},
     "output_type": "execute_result"
    }
   ],
   "source": [
    "# In modern Python, Unicode has become the first-class string type to enable more \n",
    "# consistent handling of ASCII and non-ASCII text. You can convert to Unicode\n",
    "# assuming you know the character encoding. \n",
    "my_string = 'espa\\xf1ol'.encode('utf-8')\n",
    "type(my_string)"
   ]
  },
  {
   "cell_type": "code",
   "execution_count": 59,
   "id": "cda14a27",
   "metadata": {},
   "outputs": [
    {
     "data": {
      "text/plain": [
       "'español'"
      ]
     },
     "execution_count": 59,
     "metadata": {},
     "output_type": "execute_result"
    }
   ],
   "source": [
    "my_string.decode('utf-8')"
   ]
  },
  {
   "cell_type": "code",
   "execution_count": 60,
   "id": "f3639e81",
   "metadata": {},
   "outputs": [],
   "source": [
    "# Though you may seldom need to do so, you can define your own byte literals by \n",
    "# prefixing a string with b:\n",
    "bytes_val = b'this is bytes'"
   ]
  },
  {
   "cell_type": "code",
   "execution_count": 61,
   "id": "42e573cc",
   "metadata": {},
   "outputs": [
    {
     "data": {
      "text/plain": [
       "b'this is bytes'"
      ]
     },
     "execution_count": 61,
     "metadata": {},
     "output_type": "execute_result"
    }
   ],
   "source": [
    "bytes_val"
   ]
  },
  {
   "cell_type": "code",
   "execution_count": 62,
   "id": "1872ca3c",
   "metadata": {},
   "outputs": [],
   "source": [
    "decoded = bytes_val.decode('utf-8')"
   ]
  },
  {
   "cell_type": "code",
   "execution_count": 63,
   "id": "befffb57",
   "metadata": {},
   "outputs": [
    {
     "data": {
      "text/plain": [
       "'this is bytes'"
      ]
     },
     "execution_count": 63,
     "metadata": {},
     "output_type": "execute_result"
    }
   ],
   "source": [
    "decoded"
   ]
  },
  {
   "cell_type": "code",
   "execution_count": 64,
   "id": "ab47bded",
   "metadata": {},
   "outputs": [],
   "source": [
    "# The built-in datetime module provides datetime, date, and time types. The datetime\n",
    "# object combines information stored in data and time:\n",
    "from datetime import datetime, date, time"
   ]
  },
  {
   "cell_type": "code",
   "execution_count": 65,
   "id": "7ae65e56",
   "metadata": {},
   "outputs": [],
   "source": [
    "dt = datetime(2011, 10, 29, 20, 30, 21)"
   ]
  },
  {
   "cell_type": "code",
   "execution_count": 66,
   "id": "c68cc3e2",
   "metadata": {},
   "outputs": [
    {
     "data": {
      "text/plain": [
       "29"
      ]
     },
     "execution_count": 66,
     "metadata": {},
     "output_type": "execute_result"
    }
   ],
   "source": [
    "dt.day"
   ]
  },
  {
   "cell_type": "code",
   "execution_count": 67,
   "id": "1e6e3523",
   "metadata": {},
   "outputs": [
    {
     "data": {
      "text/plain": [
       "30"
      ]
     },
     "execution_count": 67,
     "metadata": {},
     "output_type": "execute_result"
    }
   ],
   "source": [
    "dt.minute"
   ]
  },
  {
   "cell_type": "code",
   "execution_count": 68,
   "id": "451790c8",
   "metadata": {},
   "outputs": [
    {
     "data": {
      "text/plain": [
       "datetime.time(20, 30, 21)"
      ]
     },
     "execution_count": 68,
     "metadata": {},
     "output_type": "execute_result"
    }
   ],
   "source": [
    "dt.time()"
   ]
  },
  {
   "cell_type": "code",
   "execution_count": 69,
   "id": "2bbc6086",
   "metadata": {},
   "outputs": [
    {
     "data": {
      "text/plain": [
       "datetime.date(2011, 10, 29)"
      ]
     },
     "execution_count": 69,
     "metadata": {},
     "output_type": "execute_result"
    }
   ],
   "source": [
    "dt.date()"
   ]
  },
  {
   "cell_type": "code",
   "execution_count": 70,
   "id": "1d890e0b",
   "metadata": {},
   "outputs": [
    {
     "data": {
      "text/plain": [
       "'10/29/2011 20:30'"
      ]
     },
     "execution_count": 70,
     "metadata": {},
     "output_type": "execute_result"
    }
   ],
   "source": [
    "# The strftime method formats a datetime as a string:\n",
    "dt.strftime('%m/%d/%Y %H:%M')"
   ]
  },
  {
   "cell_type": "code",
   "execution_count": 71,
   "id": "3b8eb58f",
   "metadata": {},
   "outputs": [
    {
     "data": {
      "text/plain": [
       "datetime.datetime(2009, 10, 31, 0, 0)"
      ]
     },
     "execution_count": 71,
     "metadata": {},
     "output_type": "execute_result"
    }
   ],
   "source": [
    "# Strings can be converted (parsed) into datetime objects with the strptime function:\n",
    "datetime.strptime('20091031', '%Y%m%d')"
   ]
  },
  {
   "cell_type": "code",
   "execution_count": 72,
   "id": "f1f1f1ec",
   "metadata": {},
   "outputs": [
    {
     "data": {
      "text/plain": [
       "datetime.datetime(2011, 10, 29, 20, 0)"
      ]
     },
     "execution_count": 72,
     "metadata": {},
     "output_type": "execute_result"
    }
   ],
   "source": [
    "# You can replace certain fields of a datetime object:\n",
    "dt.replace(minute=0, second=0)"
   ]
  },
  {
   "cell_type": "code",
   "execution_count": 73,
   "id": "de084938",
   "metadata": {},
   "outputs": [],
   "source": [
    "# Since datetime.datetime is an immutable type, methods like these always produce new \n",
    "# objects. The difference of two datetime objects produces a datetime.timedelta type:\n",
    "dt2 = datetime(2011, 11, 15, 22, 30)"
   ]
  },
  {
   "cell_type": "code",
   "execution_count": 74,
   "id": "d0ad264b",
   "metadata": {},
   "outputs": [],
   "source": [
    "delta = dt2 - dt"
   ]
  },
  {
   "cell_type": "code",
   "execution_count": 75,
   "id": "83f9945f",
   "metadata": {},
   "outputs": [
    {
     "data": {
      "text/plain": [
       "datetime.timedelta(days=17, seconds=7179)"
      ]
     },
     "execution_count": 75,
     "metadata": {},
     "output_type": "execute_result"
    }
   ],
   "source": [
    "delta"
   ]
  },
  {
   "cell_type": "code",
   "execution_count": 76,
   "id": "92acc161",
   "metadata": {},
   "outputs": [
    {
     "data": {
      "text/plain": [
       "datetime.datetime(2011, 11, 15, 22, 30)"
      ]
     },
     "execution_count": 76,
     "metadata": {},
     "output_type": "execute_result"
    }
   ],
   "source": [
    "# Adding a timedelta to a datetime produces a new shifted datetime:\n",
    "dt + delta"
   ]
  },
  {
   "cell_type": "markdown",
   "id": "913e94ac",
   "metadata": {},
   "source": [
    "## Control Flow "
   ]
  },
  {
   "cell_type": "code",
   "execution_count": 77,
   "id": "ef959ffe",
   "metadata": {},
   "outputs": [
    {
     "name": "stdout",
     "output_type": "stream",
     "text": [
      "Positive, greater than or equal to 5\n"
     ]
    }
   ],
   "source": [
    "# The 'if' statement checks a condition that, if true, evaluates the code in the block.\n",
    "# It can be optionally followed by one or more else if blocks and a catch-all else\n",
    "# block if all of the conditions are false:\n",
    "x = 7\n",
    "\n",
    "if x < 0:\n",
    "    print('Negative')\n",
    "    \n",
    "elif x == 0:\n",
    "    print('Zero')\n",
    "    \n",
    "elif 0 < x < 5:\n",
    "    print('Positive, less that 5')\n",
    "    \n",
    "else:\n",
    "    print('Positive, greater than or equal to 5')"
   ]
  },
  {
   "cell_type": "code",
   "execution_count": 78,
   "id": "e3d76b00",
   "metadata": {},
   "outputs": [],
   "source": [
    "# If any of the conditions are true, no further 'elif' or 'else' blocks will be reached.\n",
    "# With a compound condition using 'and' or 'or', conditions are evaluated left\n",
    "# to right and will short-circuit.\n",
    "a = 5\n",
    "b = 7\n",
    "c = 8\n",
    "d = 4"
   ]
  },
  {
   "cell_type": "code",
   "execution_count": 79,
   "id": "9752f4b2",
   "metadata": {},
   "outputs": [
    {
     "name": "stdout",
     "output_type": "stream",
     "text": [
      "Made it\n"
     ]
    }
   ],
   "source": [
    "# In this expression c < d will not get evaluated since the a < b is true:\n",
    "if a < b or c < d:\n",
    "    print('Made it')"
   ]
  },
  {
   "cell_type": "code",
   "execution_count": 80,
   "id": "e19619b5",
   "metadata": {},
   "outputs": [],
   "source": [
    "# for loops are for iterating over a collection/iterator. The syntax is:\n",
    "#\n",
    "# for value in collection:\n",
    "#     block_of_code\n",
    "#"
   ]
  },
  {
   "cell_type": "code",
   "execution_count": 81,
   "id": "130397d6",
   "metadata": {},
   "outputs": [
    {
     "name": "stdout",
     "output_type": "stream",
     "text": [
      "12\n"
     ]
    }
   ],
   "source": [
    "# You can advance a for loop to the next iteration, skipping the remainder of the \n",
    "# block, using the 'continue' keyword:\n",
    "sequence = [1, 2, None, 4, None, 5]\n",
    "\n",
    "total = 0\n",
    "\n",
    "for value in sequence:\n",
    "    if value is None:\n",
    "        continue\n",
    "    total += value\n",
    "    \n",
    "print(total)"
   ]
  },
  {
   "cell_type": "code",
   "execution_count": 82,
   "id": "984c04b9",
   "metadata": {},
   "outputs": [
    {
     "name": "stdout",
     "output_type": "stream",
     "text": [
      "13\n"
     ]
    }
   ],
   "source": [
    "# A for loop can be exited altogether with the 'break' keyword:\n",
    "sequence = [1, 2, 0, 4, 6, 5, 2, 1]\n",
    "\n",
    "total_until_5 = 0\n",
    "\n",
    "for value in sequence:\n",
    "    if value == 5:\n",
    "        break\n",
    "    total_until_5 += value\n",
    "    \n",
    "print(total_until_5)"
   ]
  },
  {
   "cell_type": "code",
   "execution_count": 83,
   "id": "b609b82a",
   "metadata": {},
   "outputs": [],
   "source": [
    "# If the elements in the collection or iterator are sequences, they can be unpacked\n",
    "# into variables in the loop:\n",
    "# \n",
    "# for a, b, c in iterator:\n",
    "#    # TODO\n",
    "#"
   ]
  },
  {
   "cell_type": "code",
   "execution_count": 84,
   "id": "533f1dc0",
   "metadata": {},
   "outputs": [
    {
     "name": "stdout",
     "output_type": "stream",
     "text": [
      "4 504\n"
     ]
    }
   ],
   "source": [
    "# A while loop specifies a condition and a block of code that is to be executed until\n",
    "# the condition evaluates to False or the loop is ended with 'break':\n",
    "x = 256\n",
    "\n",
    "total = 0\n",
    "\n",
    "while x > 0:\n",
    "    if total > 500:\n",
    "        break\n",
    "    total += x\n",
    "    x = x // 2\n",
    "\n",
    "print(x, total)"
   ]
  },
  {
   "cell_type": "code",
   "execution_count": 85,
   "id": "4e6943d5",
   "metadata": {},
   "outputs": [
    {
     "name": "stdout",
     "output_type": "stream",
     "text": [
      "positive\n"
     ]
    }
   ],
   "source": [
    "# 'pass' is the no-op statement in Python. It can be used in blocks where no action \n",
    "# is to be taken, or as a placeholder for code not yet implemented:\n",
    "if x < 0:\n",
    "    print('negative')\n",
    "    \n",
    "elif x == 0:\n",
    "    # TODO\n",
    "    pass\n",
    "\n",
    "else:\n",
    "    print('positive')"
   ]
  },
  {
   "cell_type": "code",
   "execution_count": 86,
   "id": "7fbe68b1",
   "metadata": {},
   "outputs": [
    {
     "data": {
      "text/plain": [
       "range(0, 10)"
      ]
     },
     "execution_count": 86,
     "metadata": {},
     "output_type": "execute_result"
    }
   ],
   "source": [
    "# The range() function returns an iterator that yields a sequence of evenly spaced\n",
    "# integers:\n",
    "range(10)"
   ]
  },
  {
   "cell_type": "code",
   "execution_count": 87,
   "id": "1fe73cb9",
   "metadata": {},
   "outputs": [
    {
     "data": {
      "text/plain": [
       "[0, 1, 2, 3, 4, 5, 6, 7, 8, 9]"
      ]
     },
     "execution_count": 87,
     "metadata": {},
     "output_type": "execute_result"
    }
   ],
   "source": [
    "# Converting to list object:\n",
    "list(range(10))"
   ]
  },
  {
   "cell_type": "code",
   "execution_count": 88,
   "id": "48c1f44d",
   "metadata": {},
   "outputs": [
    {
     "data": {
      "text/plain": [
       "[0, 2, 4, 6, 8, 10, 12, 14, 16, 18]"
      ]
     },
     "execution_count": 88,
     "metadata": {},
     "output_type": "execute_result"
    }
   ],
   "source": [
    "# Both start, end, and step can be given:\n",
    "list(range(0, 20, 2))"
   ]
  },
  {
   "cell_type": "code",
   "execution_count": 89,
   "id": "e5177bfa",
   "metadata": {},
   "outputs": [
    {
     "data": {
      "text/plain": [
       "[20, 18, 16, 14, 12, 10, 8, 6, 4, 2]"
      ]
     },
     "execution_count": 89,
     "metadata": {},
     "output_type": "execute_result"
    }
   ],
   "source": [
    "# Decreasing order form:\n",
    "list(range(20, 0, -2))"
   ]
  },
  {
   "cell_type": "code",
   "execution_count": 90,
   "id": "0ff7fdea",
   "metadata": {},
   "outputs": [],
   "source": [
    "# A ternary expression in Python allows you to combine an if-else block that produces\n",
    "# a value into a single line or expression:\n",
    "# \n",
    "# value = true_expr if condition else false_expr\n",
    "#\n",
    "# This is the same as:\n",
    "# \n",
    "# if condition:\n",
    "#     value = true_expr\n",
    "# else:\n",
    "#     value = false_expr"
   ]
  },
  {
   "cell_type": "code",
   "execution_count": null,
   "id": "a251817e",
   "metadata": {},
   "outputs": [],
   "source": []
  }
 ],
 "metadata": {
  "kernelspec": {
   "display_name": "Python 3",
   "language": "python",
   "name": "python3"
  },
  "language_info": {
   "codemirror_mode": {
    "name": "ipython",
    "version": 3
   },
   "file_extension": ".py",
   "mimetype": "text/x-python",
   "name": "python",
   "nbconvert_exporter": "python",
   "pygments_lexer": "ipython3",
   "version": "3.8.8"
  }
 },
 "nbformat": 4,
 "nbformat_minor": 5
}
