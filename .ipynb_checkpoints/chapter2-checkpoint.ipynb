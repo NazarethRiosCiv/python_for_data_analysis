{
 "cells": [
  {
   "cell_type": "code",
   "execution_count": 1,
   "id": "f58992d2",
   "metadata": {},
   "outputs": [],
   "source": [
    "#### Chapter 2: Python Language Basics ####"
   ]
  },
  {
   "cell_type": "markdown",
   "id": "81c7c00a",
   "metadata": {},
   "source": [
    "## IPython and Jupter Introduction"
   ]
  },
  {
   "cell_type": "code",
   "execution_count": 2,
   "id": "e4908b0c",
   "metadata": {},
   "outputs": [],
   "source": [
    "# Python is an interpreted language. The Python interpreter runs a program by \n",
    "# executing one statement at a time. "
   ]
  },
  {
   "cell_type": "code",
   "execution_count": 3,
   "id": "7b763026",
   "metadata": {},
   "outputs": [],
   "source": [
    "# To run a Python program:\n",
    "# > python hello_world.py"
   ]
  },
  {
   "cell_type": "code",
   "execution_count": 4,
   "id": "7c268e6e",
   "metadata": {},
   "outputs": [],
   "source": [
    "# When using Jupyter Notebooks, the %run command executes the code in a specified\n",
    "# file in the same process, enabling you to explore the results interactively:\n",
    "# > %run hello_world.py"
   ]
  },
  {
   "cell_type": "code",
   "execution_count": 5,
   "id": "ab048354",
   "metadata": {},
   "outputs": [],
   "source": [
    "# When you type just a variable into IPython, it renders a string representation\n",
    "# of the object"
   ]
  },
  {
   "cell_type": "code",
   "execution_count": 6,
   "id": "eadbefec",
   "metadata": {},
   "outputs": [],
   "source": [
    "import numpy as np"
   ]
  },
  {
   "cell_type": "code",
   "execution_count": 7,
   "id": "d8c9cf4f",
   "metadata": {},
   "outputs": [],
   "source": [
    "data = {i : np.random.randn() for i in range(7)}"
   ]
  },
  {
   "cell_type": "code",
   "execution_count": 8,
   "id": "02e7fc1f",
   "metadata": {},
   "outputs": [
    {
     "data": {
      "text/plain": [
       "{0: 0.45136030735863375,\n",
       " 1: 0.2116892998652856,\n",
       " 2: 0.7576907802269648,\n",
       " 3: -1.7908536400760842,\n",
       " 4: 0.7963529618154785,\n",
       " 5: 1.0623833348485072,\n",
       " 6: -2.0418775494357764}"
      ]
     },
     "execution_count": 8,
     "metadata": {},
     "output_type": "execute_result"
    }
   ],
   "source": [
    "data"
   ]
  },
  {
   "cell_type": "code",
   "execution_count": 9,
   "id": "06048ed5",
   "metadata": {},
   "outputs": [],
   "source": [
    "# With IPython, many kinds of Python objects are formatted to be more readable\n",
    "# or pretty-printed, which is distinct from normal printing with print(). "
   ]
  },
  {
   "cell_type": "code",
   "execution_count": 10,
   "id": "9439caef",
   "metadata": {},
   "outputs": [
    {
     "name": "stdout",
     "output_type": "stream",
     "text": [
      "{0: 0.45136030735863375, 1: 0.2116892998652856, 2: 0.7576907802269648, 3: -1.7908536400760842, 4: 0.7963529618154785, 5: 1.0623833348485072, 6: -2.0418775494357764}\n"
     ]
    }
   ],
   "source": [
    "print(data)"
   ]
  },
  {
   "cell_type": "code",
   "execution_count": 11,
   "id": "506251e4",
   "metadata": {},
   "outputs": [],
   "source": [
    "# One of the major components of the Jupyter project is the notebook, a type of\n",
    "# interactive document for code, markup text, data visualizations, and other\n",
    "# outputs. The notebook interacts with kernels, which are implementations of \n",
    "# the Jupyter interactive computing protocol in any number of languages. "
   ]
  },
  {
   "cell_type": "code",
   "execution_count": 12,
   "id": "eefcbf96",
   "metadata": {},
   "outputs": [],
   "source": [
    "# To start up Jupyter, run the following command in the terminal:\n",
    "# > jupyter notebook"
   ]
  },
  {
   "cell_type": "code",
   "execution_count": 13,
   "id": "741c79bc",
   "metadata": {},
   "outputs": [],
   "source": [
    "# Using a question mark (?) before or after a variable will display some general\n",
    "# information about the object:"
   ]
  },
  {
   "cell_type": "code",
   "execution_count": 14,
   "id": "ae33d6eb",
   "metadata": {},
   "outputs": [],
   "source": [
    "data?"
   ]
  },
  {
   "cell_type": "code",
   "execution_count": 15,
   "id": "ee9c6b64",
   "metadata": {},
   "outputs": [],
   "source": [
    "# Using ?? will also show the function's source code if possible:"
   ]
  },
  {
   "cell_type": "code",
   "execution_count": 16,
   "id": "0014268c",
   "metadata": {},
   "outputs": [],
   "source": [
    "def add_numbers(a, b):\n",
    "    '''\n",
    "    Add two numbers together\n",
    "    \n",
    "    Returns\n",
    "    -------\n",
    "    the_sum : type of arguments\n",
    "    '''\n",
    "    return a + b"
   ]
  },
  {
   "cell_type": "code",
   "execution_count": 17,
   "id": "91f1b253",
   "metadata": {},
   "outputs": [],
   "source": [
    "add_numbers??"
   ]
  },
  {
   "cell_type": "code",
   "execution_count": 18,
   "id": "6acebf17",
   "metadata": {},
   "outputs": [],
   "source": [
    "# The question mark has a final usage, which is for searching the IPython namespace.\n",
    "# A number of characters with a wildcard (*) will show all names matching the expression:"
   ]
  },
  {
   "cell_type": "code",
   "execution_count": 19,
   "id": "87f2a154",
   "metadata": {},
   "outputs": [],
   "source": [
    "np.*load*?"
   ]
  },
  {
   "cell_type": "code",
   "execution_count": 20,
   "id": "3fa82b29",
   "metadata": {},
   "outputs": [],
   "source": [
    "# You can run any Python file inside the IPython environment using the %run command. The \n",
    "# script is run in an empty namespace (with no imports or other variables defined) so that\n",
    "# the behavior should be identical to running the program on the command line. All of the \n",
    "# variables defined in the file will then be accessible (different from importing)"
   ]
  },
  {
   "cell_type": "code",
   "execution_count": 21,
   "id": "e36c0289",
   "metadata": {},
   "outputs": [],
   "source": [
    "%run ipython_script_test.py"
   ]
  },
  {
   "cell_type": "code",
   "execution_count": 22,
   "id": "95b09649",
   "metadata": {},
   "outputs": [
    {
     "data": {
      "text/plain": [
       "7.5"
      ]
     },
     "execution_count": 22,
     "metadata": {},
     "output_type": "execute_result"
    }
   ],
   "source": [
    "c"
   ]
  },
  {
   "cell_type": "code",
   "execution_count": 23,
   "id": "d836204d",
   "metadata": {},
   "outputs": [],
   "source": [
    "# If a Python script expects command-line arguments (sys.argv), these can be passed after the\n",
    "# file path as though run on the command line. \n",
    "# > %run script_with_args.py arg1 arg2"
   ]
  },
  {
   "cell_type": "code",
   "execution_count": 24,
   "id": "0e18c6a3",
   "metadata": {},
   "outputs": [],
   "source": [
    "# In the Jupyter notebook, you may also use the related %load magic function, which imports\n",
    "# a script into a code cell:"
   ]
  },
  {
   "cell_type": "code",
   "execution_count": null,
   "id": "07fd25af",
   "metadata": {},
   "outputs": [],
   "source": [
    "# %load ipython_script_test.py\n",
    "def f(x, y, z):\n",
    "    return (x + y) / z\n",
    "\n",
    "a = 5\n",
    "b = 6\n",
    "c = 7.5\n",
    "\n",
    "result = f(a, b, c)"
   ]
  },
  {
   "cell_type": "code",
   "execution_count": 37,
   "id": "d8a5ff80",
   "metadata": {},
   "outputs": [],
   "source": [
    "# IPython's special commands (which are not built into Python itself) are known as magic \n",
    "# commands. These are designed to facilitate command tasks. A magic command is any command\n",
    "# prefaced with a % symbol."
   ]
  },
  {
   "cell_type": "code",
   "execution_count": 38,
   "id": "243bb171",
   "metadata": {},
   "outputs": [],
   "source": [
    "# As an example, you can check the execution time of any Python statement using %timeit"
   ]
  },
  {
   "cell_type": "code",
   "execution_count": 35,
   "id": "9bb59c2d",
   "metadata": {},
   "outputs": [
    {
     "name": "stdout",
     "output_type": "stream",
     "text": [
      "147 ns ± 1.77 ns per loop (mean ± std. dev. of 7 runs, 10000000 loops each)\n"
     ]
    }
   ],
   "source": [
    "%timeit f(1, 2, 3)"
   ]
  },
  {
   "cell_type": "code",
   "execution_count": 39,
   "id": "c35aa664",
   "metadata": {},
   "outputs": [],
   "source": [
    "# Magic commands can be viewed as command-line programs to be run within the IPython system.\n",
    "# Many of them have additional options, which can be viewed using ?:"
   ]
  },
  {
   "cell_type": "code",
   "execution_count": 40,
   "id": "e22e4486",
   "metadata": {},
   "outputs": [],
   "source": [
    "%debug?"
   ]
  },
  {
   "cell_type": "code",
   "execution_count": 42,
   "id": "36ed77dd",
   "metadata": {},
   "outputs": [],
   "source": [
    "# Some magic functions behave like Python functions and their output can be assigned to a \n",
    "# variable, like:"
   ]
  },
  {
   "cell_type": "code",
   "execution_count": 43,
   "id": "1583d8eb",
   "metadata": {},
   "outputs": [],
   "source": [
    "foo = %pwd"
   ]
  },
  {
   "cell_type": "code",
   "execution_count": 44,
   "id": "3bce1cf6",
   "metadata": {},
   "outputs": [
    {
     "data": {
      "text/plain": [
       "'H:\\\\Personal\\\\Python_for_Data_Analysis'"
      ]
     },
     "execution_count": 44,
     "metadata": {},
     "output_type": "execute_result"
    }
   ],
   "source": [
    "foo"
   ]
  },
  {
   "cell_type": "code",
   "execution_count": 45,
   "id": "50b64b3a",
   "metadata": {},
   "outputs": [],
   "source": [
    "# You can explore all the possible magic commands with:\n",
    "%quickref"
   ]
  },
  {
   "cell_type": "code",
   "execution_count": 46,
   "id": "cadf7005",
   "metadata": {},
   "outputs": [],
   "source": [
    "# The %matplotlib magic function configures its integration with the IPython shell:"
   ]
  },
  {
   "cell_type": "code",
   "execution_count": 47,
   "id": "e915fe05",
   "metadata": {},
   "outputs": [
    {
     "name": "stdout",
     "output_type": "stream",
     "text": [
      "Using matplotlib backend: Qt5Agg\n"
     ]
    }
   ],
   "source": [
    "%matplotlib"
   ]
  },
  {
   "cell_type": "code",
   "execution_count": 48,
   "id": "53c6b39a",
   "metadata": {},
   "outputs": [],
   "source": [
    "%matplotlib inline"
   ]
  },
  {
   "cell_type": "code",
   "execution_count": 49,
   "id": "a7294c0e",
   "metadata": {},
   "outputs": [],
   "source": [
    "import matplotlib.pyplot as plt"
   ]
  },
  {
   "cell_type": "code",
   "execution_count": 53,
   "id": "19881ef3",
   "metadata": {},
   "outputs": [
    {
     "data": {
      "text/plain": [
       "[<matplotlib.lines.Line2D at 0x2784822e820>]"
      ]
     },
     "execution_count": 53,
     "metadata": {},
     "output_type": "execute_result"
    },
    {
     "data": {
      "image/png": "[encoded data removed]",
      "text/plain": [
       "<Figure size 432x288 with 1 Axes>"
      ]
     },
     "metadata": {
      "needs_background": "light"
     },
     "output_type": "display_data"
    }
   ],
   "source": [
    "plt.plot(np.random.randn(50).cumsum())"
   ]
  },
  {
   "cell_type": "markdown",
   "id": "c4f5b9b2",
   "metadata": {},
   "source": [
    "## Python Introduction"
   ]
  },
  {
   "cell_type": "code",
   "execution_count": 56,
   "id": "d25864d3",
   "metadata": {},
   "outputs": [],
   "source": [
    "# When assigning a variable in Python, you are creating a reference to the object\n",
    "# on the right-hand side. Consider a list of integers:"
   ]
  },
  {
   "cell_type": "code",
   "execution_count": 57,
   "id": "c010a05a",
   "metadata": {},
   "outputs": [],
   "source": [
    "a = [1, 2, 3]"
   ]
  },
  {
   "cell_type": "code",
   "execution_count": 58,
   "id": "60bdc4f6",
   "metadata": {},
   "outputs": [],
   "source": [
    "# Suppose we assign a to a new variable b:\n",
    "b = a"
   ]
  },
  {
   "cell_type": "code",
   "execution_count": 59,
   "id": "fa0aa79b",
   "metadata": {},
   "outputs": [],
   "source": [
    "# In some languages, this would cause the data to be copied. In Python, a and b now\n",
    "# refer to the same object (the original list)."
   ]
  },
  {
   "cell_type": "code",
   "execution_count": 60,
   "id": "57e151f4",
   "metadata": {},
   "outputs": [],
   "source": [
    "a.append(4)"
   ]
  },
  {
   "cell_type": "code",
   "execution_count": 61,
   "id": "589b6f7b",
   "metadata": {},
   "outputs": [
    {
     "data": {
      "text/plain": [
       "[1, 2, 3, 4]"
      ]
     },
     "execution_count": 61,
     "metadata": {},
     "output_type": "execute_result"
    }
   ],
   "source": [
    "b"
   ]
  },
  {
   "cell_type": "code",
   "execution_count": 62,
   "id": "613862e9",
   "metadata": {},
   "outputs": [],
   "source": [
    "# When you pass objects as arguments to a function, new local variables are created\n",
    "# referencing the original objects without any copying. If you bind a new object to\n",
    "# a variable inside a function, that change will not be reflected in the parent scope.\n",
    "# It is therefore possible to alter the internals of a mutable argument."
   ]
  },
  {
   "cell_type": "code",
   "execution_count": 63,
   "id": "d96f5bf7",
   "metadata": {},
   "outputs": [],
   "source": [
    "def append_element(some_list, element):\n",
    "    some_list.append(element)"
   ]
  },
  {
   "cell_type": "code",
   "execution_count": 65,
   "id": "0c4e1917",
   "metadata": {},
   "outputs": [],
   "source": [
    "append_element(a, 5)"
   ]
  },
  {
   "cell_type": "code",
   "execution_count": 66,
   "id": "7808f862",
   "metadata": {},
   "outputs": [
    {
     "data": {
      "text/plain": [
       "[1, 2, 3, 4, 5]"
      ]
     },
     "execution_count": 66,
     "metadata": {},
     "output_type": "execute_result"
    }
   ],
   "source": [
    "a"
   ]
  },
  {
   "cell_type": "code",
   "execution_count": 67,
   "id": "05de4cad",
   "metadata": {},
   "outputs": [],
   "source": [
    "# In Python, object references have no type associated with them (they are dynamically typed):"
   ]
  },
  {
   "cell_type": "code",
   "execution_count": 68,
   "id": "1dc8d1de",
   "metadata": {},
   "outputs": [],
   "source": [
    "a = 5"
   ]
  },
  {
   "cell_type": "code",
   "execution_count": 69,
   "id": "9ccd9b9d",
   "metadata": {},
   "outputs": [
    {
     "data": {
      "text/plain": [
       "int"
      ]
     },
     "execution_count": 69,
     "metadata": {},
     "output_type": "execute_result"
    }
   ],
   "source": [
    "type(a)"
   ]
  },
  {
   "cell_type": "code",
   "execution_count": 70,
   "id": "0ad96ba5",
   "metadata": {},
   "outputs": [],
   "source": [
    "a = 'foo'"
   ]
  },
  {
   "cell_type": "code",
   "execution_count": 71,
   "id": "62cb21bc",
   "metadata": {},
   "outputs": [
    {
     "data": {
      "text/plain": [
       "str"
      ]
     },
     "execution_count": 71,
     "metadata": {},
     "output_type": "execute_result"
    }
   ],
   "source": [
    "type(a)"
   ]
  },
  {
   "cell_type": "code",
   "execution_count": 72,
   "id": "624b77cc",
   "metadata": {},
   "outputs": [],
   "source": [
    "# Variables are names for objects within a particular namespace; the type information is stored\n",
    "# in the object itself. Python is a strongly typed language, which means that every object has \n",
    "# a specific type (or class), and implicit conversions will occur only in certain circumstances."
   ]
  },
  {
   "cell_type": "code",
   "execution_count": 76,
   "id": "258c9fa2",
   "metadata": {},
   "outputs": [],
   "source": [
    "# a float type\n",
    "a = 4.5   "
   ]
  },
  {
   "cell_type": "code",
   "execution_count": 77,
   "id": "babf8775",
   "metadata": {},
   "outputs": [],
   "source": [
    "# an int type\n",
    "b = 2"
   ]
  },
  {
   "cell_type": "code",
   "execution_count": 78,
   "id": "6aeb6191",
   "metadata": {},
   "outputs": [
    {
     "data": {
      "text/plain": [
       "6.5"
      ]
     },
     "execution_count": 78,
     "metadata": {},
     "output_type": "execute_result"
    }
   ],
   "source": [
    "# natural conversion for addition\n",
    "a + b"
   ]
  },
  {
   "cell_type": "code",
   "execution_count": 79,
   "id": "35bc02b6",
   "metadata": {},
   "outputs": [
    {
     "data": {
      "text/plain": [
       "False"
      ]
     },
     "execution_count": 79,
     "metadata": {},
     "output_type": "execute_result"
    }
   ],
   "source": [
    "# You can check that an object is an instance of a particular type using the isinstance() function:\n",
    "isinstance(a, int)"
   ]
  },
  {
   "cell_type": "code",
   "execution_count": 80,
   "id": "f7ce0b3c",
   "metadata": {},
   "outputs": [
    {
     "data": {
      "text/plain": [
       "True"
      ]
     },
     "execution_count": 80,
     "metadata": {},
     "output_type": "execute_result"
    }
   ],
   "source": [
    "isinstance(b, (int, float))"
   ]
  },
  {
   "cell_type": "code",
   "execution_count": 82,
   "id": "781a5901",
   "metadata": {},
   "outputs": [],
   "source": [
    "# Objects in Python typically have both attributes and methods:\n",
    "#    Attributes: other objects stored inside the object\n",
    "#    Methods: functions associated with an object that can have\n",
    "#             access to the object's internal data and attributes\n",
    "#\n",
    "# Both of these are accessed via the syntax obj.attribute_name"
   ]
  },
  {
   "cell_type": "code",
   "execution_count": 83,
   "id": "a6a3e433",
   "metadata": {},
   "outputs": [],
   "source": [
    "# Often you may not care about the type of an object but rather only whether is has certain\n",
    "# methods or behavior. This is sometimes called \"duck typing.\" For example, you can verify\n",
    "# that an object is iterable if it implemented the iterator protocol. For many objects, \n",
    "# this means it has a __iter__ method. An alternative way to check is:\n",
    "def is_iterable(obj):\n",
    "    try:\n",
    "        iter(obj)\n",
    "        return True\n",
    "    except TypeError:\n",
    "        return False"
   ]
  },
  {
   "cell_type": "code",
   "execution_count": 84,
   "id": "d1a11c13",
   "metadata": {},
   "outputs": [
    {
     "data": {
      "text/plain": [
       "True"
      ]
     },
     "execution_count": 84,
     "metadata": {},
     "output_type": "execute_result"
    }
   ],
   "source": [
    "is_iterable('a string')"
   ]
  },
  {
   "cell_type": "code",
   "execution_count": 85,
   "id": "9c1d2971",
   "metadata": {},
   "outputs": [
    {
     "data": {
      "text/plain": [
       "False"
      ]
     },
     "execution_count": 85,
     "metadata": {},
     "output_type": "execute_result"
    }
   ],
   "source": [
    "is_iterable(5)"
   ]
  },
  {
   "cell_type": "code",
   "execution_count": 86,
   "id": "1835ac81",
   "metadata": {},
   "outputs": [],
   "source": [
    "# To check if two references refer to the same object, use the is keyword. is not is also\n",
    "# perfectly valid if you want to check that two objects are not the same:"
   ]
  },
  {
   "cell_type": "code",
   "execution_count": 87,
   "id": "ab68b51d",
   "metadata": {},
   "outputs": [],
   "source": [
    "a = [1, 2, 3]\n",
    "b = a\n",
    "c = list(a)"
   ]
  },
  {
   "cell_type": "code",
   "execution_count": 90,
   "id": "db8a0a56",
   "metadata": {},
   "outputs": [
    {
     "data": {
      "text/plain": [
       "True"
      ]
     },
     "execution_count": 90,
     "metadata": {},
     "output_type": "execute_result"
    }
   ],
   "source": [
    "a is b"
   ]
  },
  {
   "cell_type": "code",
   "execution_count": 91,
   "id": "293690f9",
   "metadata": {},
   "outputs": [
    {
     "data": {
      "text/plain": [
       "True"
      ]
     },
     "execution_count": 91,
     "metadata": {},
     "output_type": "execute_result"
    }
   ],
   "source": [
    "a is not c"
   ]
  },
  {
   "cell_type": "code",
   "execution_count": 92,
   "id": "f6891158",
   "metadata": {},
   "outputs": [],
   "source": [
    "# A very common use of is and is not is to check if a variable is None, since there is only\n",
    "# one instance of None"
   ]
  },
  {
   "cell_type": "code",
   "execution_count": 93,
   "id": "ade288dc",
   "metadata": {},
   "outputs": [],
   "source": [
    "a = None"
   ]
  },
  {
   "cell_type": "code",
   "execution_count": 94,
   "id": "7cc1e094",
   "metadata": {},
   "outputs": [
    {
     "data": {
      "text/plain": [
       "True"
      ]
     },
     "execution_count": 94,
     "metadata": {},
     "output_type": "execute_result"
    }
   ],
   "source": [
    "a is None"
   ]
  },
  {
   "cell_type": "code",
   "execution_count": 95,
   "id": "6fef5100",
   "metadata": {},
   "outputs": [],
   "source": [
    "# Python has a small set of built-in types for handling numerical data, strings booleans, and\n",
    "# dates/times. These single value types are sometimes called scalar types:\n",
    "#\n",
    "# None: The Python 'null' value (only one instance of the None object exists)\n",
    "# str: String type; holds Unicode (UTF-8 encoded) strings\n",
    "# bytes: Raw ASCII bytes (or Unicode encoded as bytes)\n",
    "# float: Double-precision (64-bit) floating-point number\n",
    "# bool: A True or False value\n",
    "# int: arbitrary precision signed integer"
   ]
  },
  {
   "cell_type": "code",
   "execution_count": 97,
   "id": "0ebee569",
   "metadata": {},
   "outputs": [],
   "source": [
    "# The primary Python types for numbers are int and float. An int can store arbitrarily large\n",
    "# numbers:\n",
    "i = 17239871"
   ]
  },
  {
   "cell_type": "code",
   "execution_count": 98,
   "id": "2ac56bfc",
   "metadata": {},
   "outputs": [
    {
     "data": {
      "text/plain": [
       "26254519291092456596965462913230729701102721"
      ]
     },
     "execution_count": 98,
     "metadata": {},
     "output_type": "execute_result"
    }
   ],
   "source": [
    "i ** 6"
   ]
  },
  {
   "cell_type": "code",
   "execution_count": 99,
   "id": "3797e2a2",
   "metadata": {},
   "outputs": [],
   "source": [
    "# Floating-point numbers are represented with the Python float type. They can also be expressed\n",
    "# with scientific notation:\n",
    "f = 7.243\n",
    "g = 6.78e-5"
   ]
  },
  {
   "cell_type": "code",
   "execution_count": 100,
   "id": "4dcfaf6b",
   "metadata": {},
   "outputs": [],
   "source": [
    "# You can write string literals using either single or double quotes:\n",
    "a = 'one way of writing a string'\n",
    "b = \"another way\""
   ]
  },
  {
   "cell_type": "code",
   "execution_count": 101,
   "id": "59cfb4ca",
   "metadata": {},
   "outputs": [],
   "source": [
    "# For multiline strings:\n",
    "c = '''\n",
    "This is the first line.\n",
    "And this is the sencond.\n",
    "'''"
   ]
  },
  {
   "cell_type": "code",
   "execution_count": 102,
   "id": "b0b52f83",
   "metadata": {},
   "outputs": [
    {
     "data": {
      "text/plain": [
       "3"
      ]
     },
     "execution_count": 102,
     "metadata": {},
     "output_type": "execute_result"
    }
   ],
   "source": [
    "# Multiline strings actually contain the newline characters '\\n':\n",
    "c.count('\\n')"
   ]
  },
  {
   "cell_type": "code",
   "execution_count": 103,
   "id": "a99de3d2",
   "metadata": {},
   "outputs": [],
   "source": [
    "# Strings are immutable; you cannot modify a string, however there is a method that allows\n",
    "# you to substitute parts of a string:\n",
    "a = 'this is a string'\n",
    "b = a.replace('string', 'longer string')"
   ]
  },
  {
   "cell_type": "code",
   "execution_count": 104,
   "id": "ae08fef8",
   "metadata": {},
   "outputs": [
    {
     "data": {
      "text/plain": [
       "'this is a longer string'"
      ]
     },
     "execution_count": 104,
     "metadata": {},
     "output_type": "execute_result"
    }
   ],
   "source": [
    "b"
   ]
  },
  {
   "cell_type": "code",
   "execution_count": 105,
   "id": "68bc9bd9",
   "metadata": {},
   "outputs": [
    {
     "data": {
      "text/plain": [
       "'5'"
      ]
     },
     "execution_count": 105,
     "metadata": {},
     "output_type": "execute_result"
    }
   ],
   "source": [
    "# Many objects can be converted to a string:\n",
    "str(5)"
   ]
  },
  {
   "cell_type": "code",
   "execution_count": 106,
   "id": "14c94a8e",
   "metadata": {},
   "outputs": [
    {
     "name": "stdout",
     "output_type": "stream",
     "text": [
      "t\n",
      "e\n",
      "x\n",
      "t\n"
     ]
    }
   ],
   "source": [
    "# Strings are a sequence of Unicode characters and therefore can be treated like other sequences:\n",
    "for t in 'text':\n",
    "    print(t)"
   ]
  },
  {
   "cell_type": "code",
   "execution_count": 107,
   "id": "c58a53e4",
   "metadata": {},
   "outputs": [
    {
     "data": {
      "text/plain": [
       "['t', 'e', 'x', 't']"
      ]
     },
     "execution_count": 107,
     "metadata": {},
     "output_type": "execute_result"
    }
   ],
   "source": [
    "list('text')"
   ]
  },
  {
   "cell_type": "code",
   "execution_count": 108,
   "id": "f54d6605",
   "metadata": {},
   "outputs": [
    {
     "data": {
      "text/plain": [
       "'tex'"
      ]
     },
     "execution_count": 108,
     "metadata": {},
     "output_type": "execute_result"
    }
   ],
   "source": [
    "'text'[:3]"
   ]
  },
  {
   "cell_type": "code",
   "execution_count": 109,
   "id": "f0da8e1c",
   "metadata": {},
   "outputs": [],
   "source": [
    "# The backslash character is an escape character, meaning that it is used to specify special \n",
    "# characters like '\\n' for newline. To write a string literal with backslashes, you will\n",
    "# need to escape them:\n",
    "my_string = '\\\\this\\\\string\\\\has\\\\backslashes'"
   ]
  },
  {
   "cell_type": "code",
   "execution_count": 111,
   "id": "dfe9f0b4",
   "metadata": {},
   "outputs": [
    {
     "name": "stdout",
     "output_type": "stream",
     "text": [
      "\\this\\string\\has\\backslashes\n"
     ]
    }
   ],
   "source": [
    "print(my_string)"
   ]
  },
  {
   "cell_type": "code",
   "execution_count": 112,
   "id": "0e4036e3",
   "metadata": {},
   "outputs": [],
   "source": [
    "# If you have a string with lots of backslashes and no special characters, you can use a raw\n",
    "# string instead:\n",
    "my_string = r'\\this\\string\\has\\backslashes'"
   ]
  },
  {
   "cell_type": "code",
   "execution_count": 113,
   "id": "0c5ba6ad",
   "metadata": {},
   "outputs": [
    {
     "name": "stdout",
     "output_type": "stream",
     "text": [
      "\\this\\string\\has\\backslashes\n"
     ]
    }
   ],
   "source": [
    "print(my_string)"
   ]
  },
  {
   "cell_type": "code",
   "execution_count": 114,
   "id": "0762b854",
   "metadata": {},
   "outputs": [
    {
     "data": {
      "text/plain": [
       "'this is the first half and this is the second half.'"
      ]
     },
     "execution_count": 114,
     "metadata": {},
     "output_type": "execute_result"
    }
   ],
   "source": [
    "# Adding two strings together concatenates them and produces a new string:\n",
    "a = 'this is the first half '\n",
    "b = 'and this is the second half.'\n",
    "a + b"
   ]
  },
  {
   "cell_type": "code",
   "execution_count": 115,
   "id": "c8b10e89",
   "metadata": {},
   "outputs": [],
   "source": [
    "# String objects have a format method that can be used to substitute arguments:\n",
    "#\n",
    "# {0:.2f} means to format the first argument as a float with two decimal places\n",
    "# {1:s} means to format the second argument as a string\n",
    "# {2:d} means to format the third argument as an exact integer\n",
    "#\n",
    "template = '{0:.2f} {1:s} are worth US${2:d}'"
   ]
  },
  {
   "cell_type": "code",
   "execution_count": 116,
   "id": "8a25ac9c",
   "metadata": {},
   "outputs": [
    {
     "data": {
      "text/plain": [
       "'4.56 Argentine Pesos are worth US$1'"
      ]
     },
     "execution_count": 116,
     "metadata": {},
     "output_type": "execute_result"
    }
   ],
   "source": [
    "template.format(4.5560, 'Argentine Pesos', 1)"
   ]
  },
  {
   "cell_type": "code",
   "execution_count": 119,
   "id": "3e65fce1",
   "metadata": {},
   "outputs": [
    {
     "data": {
      "text/plain": [
       "bytes"
      ]
     },
     "execution_count": 119,
     "metadata": {},
     "output_type": "execute_result"
    }
   ],
   "source": [
    "# In modern Python, Unicode has become the first-class string type to enable more \n",
    "# consistent handling of ASCII and non-ASCII text. You can convert to Unicode\n",
    "# assuming you know the character encoding. \n",
    "my_string = 'espa\\xf1ol'.encode('utf-8')\n",
    "type(my_string)"
   ]
  },
  {
   "cell_type": "code",
   "execution_count": 120,
   "id": "cda14a27",
   "metadata": {},
   "outputs": [
    {
     "data": {
      "text/plain": [
       "'español'"
      ]
     },
     "execution_count": 120,
     "metadata": {},
     "output_type": "execute_result"
    }
   ],
   "source": [
    "my_string.decode('utf-8')"
   ]
  },
  {
   "cell_type": "code",
   "execution_count": 121,
   "id": "f3639e81",
   "metadata": {},
   "outputs": [],
   "source": [
    "# Though you may seldom need to do so, you can define your own byte literals by \n",
    "# prefixing a string with b:\n",
    "bytes_val = b'this is bytes'"
   ]
  },
  {
   "cell_type": "code",
   "execution_count": 122,
   "id": "42e573cc",
   "metadata": {},
   "outputs": [
    {
     "data": {
      "text/plain": [
       "b'this is bytes'"
      ]
     },
     "execution_count": 122,
     "metadata": {},
     "output_type": "execute_result"
    }
   ],
   "source": [
    "bytes_val"
   ]
  },
  {
   "cell_type": "code",
   "execution_count": 123,
   "id": "1872ca3c",
   "metadata": {},
   "outputs": [],
   "source": [
    "decoded = bytes_val.decode('utf-8')"
   ]
  },
  {
   "cell_type": "code",
   "execution_count": 124,
   "id": "befffb57",
   "metadata": {},
   "outputs": [
    {
     "data": {
      "text/plain": [
       "'this is bytes'"
      ]
     },
     "execution_count": 124,
     "metadata": {},
     "output_type": "execute_result"
    }
   ],
   "source": [
    "decoded"
   ]
  },
  {
   "cell_type": "code",
   "execution_count": 125,
   "id": "ab47bded",
   "metadata": {},
   "outputs": [],
   "source": [
    "# The built-in datatime module provides datetime, date, and time types. The datetime\n",
    "# object combines information stored in data and time:\n",
    "from datetime import datetime, date, time"
   ]
  },
  {
   "cell_type": "code",
   "execution_count": 126,
   "id": "7ae65e56",
   "metadata": {},
   "outputs": [],
   "source": [
    "dt = datetime(2011, 10, 29, 20, 30, 21)"
   ]
  },
  {
   "cell_type": "code",
   "execution_count": 127,
   "id": "c68cc3e2",
   "metadata": {},
   "outputs": [
    {
     "data": {
      "text/plain": [
       "29"
      ]
     },
     "execution_count": 127,
     "metadata": {},
     "output_type": "execute_result"
    }
   ],
   "source": [
    "dt.day"
   ]
  },
  {
   "cell_type": "code",
   "execution_count": 128,
   "id": "1e6e3523",
   "metadata": {},
   "outputs": [
    {
     "data": {
      "text/plain": [
       "30"
      ]
     },
     "execution_count": 128,
     "metadata": {},
     "output_type": "execute_result"
    }
   ],
   "source": [
    "dt.minute"
   ]
  },
  {
   "cell_type": "code",
   "execution_count": 129,
   "id": "451790c8",
   "metadata": {},
   "outputs": [
    {
     "data": {
      "text/plain": [
       "datetime.time(20, 30, 21)"
      ]
     },
     "execution_count": 129,
     "metadata": {},
     "output_type": "execute_result"
    }
   ],
   "source": [
    "dt.time()"
   ]
  },
  {
   "cell_type": "code",
   "execution_count": 131,
   "id": "2bbc6086",
   "metadata": {},
   "outputs": [
    {
     "data": {
      "text/plain": [
       "datetime.date(2011, 10, 29)"
      ]
     },
     "execution_count": 131,
     "metadata": {},
     "output_type": "execute_result"
    }
   ],
   "source": [
    "dt.date()"
   ]
  },
  {
   "cell_type": "code",
   "execution_count": 132,
   "id": "1d890e0b",
   "metadata": {},
   "outputs": [
    {
     "data": {
      "text/plain": [
       "'10/29/2011 20:30'"
      ]
     },
     "execution_count": 132,
     "metadata": {},
     "output_type": "execute_result"
    }
   ],
   "source": [
    "# The strftime method formats a datetime as a string:\n",
    "dt.strftime('%m/%d/%Y %H:%M')"
   ]
  },
  {
   "cell_type": "code",
   "execution_count": 133,
   "id": "3b8eb58f",
   "metadata": {},
   "outputs": [
    {
     "data": {
      "text/plain": [
       "datetime.datetime(2009, 10, 31, 0, 0)"
      ]
     },
     "execution_count": 133,
     "metadata": {},
     "output_type": "execute_result"
    }
   ],
   "source": [
    "# Strings can be converted (parsed) into datetime objects with the strptime function:\n",
    "datetime.strptime('20091031', '%Y%m%d')"
   ]
  },
  {
   "cell_type": "code",
   "execution_count": 134,
   "id": "f1f1f1ec",
   "metadata": {},
   "outputs": [
    {
     "data": {
      "text/plain": [
       "datetime.datetime(2011, 10, 29, 20, 0)"
      ]
     },
     "execution_count": 134,
     "metadata": {},
     "output_type": "execute_result"
    }
   ],
   "source": [
    "# You can replace certain fields of a datetime object:\n",
    "dt.replace(minute=0, second=0)"
   ]
  },
  {
   "cell_type": "code",
   "execution_count": 138,
   "id": "de084938",
   "metadata": {},
   "outputs": [],
   "source": [
    "# Since datetime.datetime is an immutable type, methods like these always produce new \n",
    "# objects. The difference of two datetime objects produces a datetime.timedelta type:\n",
    "dt2 = datetime(2011, 11, 15, 22, 30)"
   ]
  },
  {
   "cell_type": "code",
   "execution_count": 139,
   "id": "d0ad264b",
   "metadata": {},
   "outputs": [],
   "source": [
    "delta = dt2 - dt"
   ]
  },
  {
   "cell_type": "code",
   "execution_count": 140,
   "id": "83f9945f",
   "metadata": {},
   "outputs": [
    {
     "data": {
      "text/plain": [
       "datetime.timedelta(days=17, seconds=7179)"
      ]
     },
     "execution_count": 140,
     "metadata": {},
     "output_type": "execute_result"
    }
   ],
   "source": [
    "delta"
   ]
  },
  {
   "cell_type": "code",
   "execution_count": 141,
   "id": "92acc161",
   "metadata": {},
   "outputs": [
    {
     "data": {
      "text/plain": [
       "datetime.datetime(2011, 11, 15, 22, 30)"
      ]
     },
     "execution_count": 141,
     "metadata": {},
     "output_type": "execute_result"
    }
   ],
   "source": [
    "# Adding a timedelta to a datetime produces a new shifted datetime:\n",
    "dt + delta"
   ]
  },
  {
   "cell_type": "markdown",
   "id": "913e94ac",
   "metadata": {},
   "source": [
    "## Control Flow "
   ]
  },
  {
   "cell_type": "code",
   "execution_count": 143,
   "id": "ef959ffe",
   "metadata": {},
   "outputs": [],
   "source": [
    "# The if statement checks a condition that, if True, evaluates the code in the block.\n",
    "# It can be optionally followed by one or more else if blocks and a catch-all else\n",
    "# block if all of the conditions are False."
   ]
  },
  {
   "cell_type": "code",
   "execution_count": 144,
   "id": "03bd00ed",
   "metadata": {},
   "outputs": [],
   "source": [
    "x = 7"
   ]
  },
  {
   "cell_type": "code",
   "execution_count": 145,
   "id": "df18d345",
   "metadata": {},
   "outputs": [
    {
     "name": "stdout",
     "output_type": "stream",
     "text": [
      "Positive, greater than or equal to 5\n"
     ]
    }
   ],
   "source": [
    "if x < 0:\n",
    "    print('Negative')\n",
    "elif x == 0:\n",
    "    print('Zero')\n",
    "elif 0 < x < 5:\n",
    "    print('Positive, less that 5')\n",
    "else:\n",
    "    print('Positive, greater than or equal to 5')"
   ]
  },
  {
   "cell_type": "code",
   "execution_count": 146,
   "id": "e3d76b00",
   "metadata": {},
   "outputs": [],
   "source": [
    "# If any of the conditions is True, no further elif or else blocks will be reached.\n",
    "# With a compound condition using 'and' or 'or', conditions are evaluated left\n",
    "# to right and will short-circuit"
   ]
  },
  {
   "cell_type": "code",
   "execution_count": 147,
   "id": "b9abbbca",
   "metadata": {},
   "outputs": [],
   "source": [
    "a = 5\n",
    "b = 7\n",
    "c = 8\n",
    "d = 4"
   ]
  },
  {
   "cell_type": "code",
   "execution_count": 149,
   "id": "9752f4b2",
   "metadata": {},
   "outputs": [
    {
     "name": "stdout",
     "output_type": "stream",
     "text": [
      "Made it\n"
     ]
    }
   ],
   "source": [
    "# In this expression c < d will not get evaluated since the a < b is True:\n",
    "if a < b or c < d:\n",
    "    print('Made it')"
   ]
  },
  {
   "cell_type": "code",
   "execution_count": 150,
   "id": "e19619b5",
   "metadata": {},
   "outputs": [],
   "source": [
    "# for loops are for iterating over a collection/iterator. The syntax is:\n",
    "#\n",
    "# for value in collection:\n",
    "#     block_of_code\n",
    "#"
   ]
  },
  {
   "cell_type": "code",
   "execution_count": 151,
   "id": "130397d6",
   "metadata": {},
   "outputs": [],
   "source": [
    "# You can advance a for loop to the next iteration, skipping the remainder of the \n",
    "# block, using the 'continue' keyword:"
   ]
  },
  {
   "cell_type": "code",
   "execution_count": 152,
   "id": "a577cb42",
   "metadata": {},
   "outputs": [],
   "source": [
    "sequence = [1, 2, None, 4, None, 5]\n",
    "total = 0\n",
    "for value in sequence:\n",
    "    if value is None:\n",
    "        continue\n",
    "    total += value"
   ]
  },
  {
   "cell_type": "code",
   "execution_count": 153,
   "id": "6ca54899",
   "metadata": {},
   "outputs": [
    {
     "data": {
      "text/plain": [
       "12"
      ]
     },
     "execution_count": 153,
     "metadata": {},
     "output_type": "execute_result"
    }
   ],
   "source": [
    "total"
   ]
  },
  {
   "cell_type": "code",
   "execution_count": 154,
   "id": "984c04b9",
   "metadata": {},
   "outputs": [],
   "source": [
    "# A for loop can be exited altogether with the break keyword:"
   ]
  },
  {
   "cell_type": "code",
   "execution_count": 155,
   "id": "8f3b7819",
   "metadata": {},
   "outputs": [],
   "source": [
    "sequence = [1, 2, 0, 4, 6, 5, 2, 1]\n",
    "total_until_5 = 0\n",
    "for value in sequence:\n",
    "    if value == 5:\n",
    "        break\n",
    "    total_until_5 += value"
   ]
  },
  {
   "cell_type": "code",
   "execution_count": 156,
   "id": "b41effad",
   "metadata": {},
   "outputs": [
    {
     "data": {
      "text/plain": [
       "13"
      ]
     },
     "execution_count": 156,
     "metadata": {},
     "output_type": "execute_result"
    }
   ],
   "source": [
    "total_until_5"
   ]
  },
  {
   "cell_type": "code",
   "execution_count": 158,
   "id": "b609b82a",
   "metadata": {},
   "outputs": [],
   "source": [
    "# If the elements in the collection or iterator are sequences, they can be unpacked\n",
    "# into variables in the loop:\n",
    "# \n",
    "# for a, b, c in iterator:\n",
    "#    # TODO"
   ]
  },
  {
   "cell_type": "code",
   "execution_count": 159,
   "id": "533f1dc0",
   "metadata": {},
   "outputs": [],
   "source": [
    "# A while loop specifies a condition and a block of code that is to be executed until\n",
    "# the condition evaluates to False or the loop is ended with 'break'"
   ]
  },
  {
   "cell_type": "code",
   "execution_count": 160,
   "id": "f629ca7a",
   "metadata": {},
   "outputs": [],
   "source": [
    "x = 256\n",
    "total = 0\n",
    "while x > 0:\n",
    "    if total > 500:\n",
    "        break\n",
    "    total += x\n",
    "    x = x // 2"
   ]
  },
  {
   "cell_type": "code",
   "execution_count": 164,
   "id": "b812dd8d",
   "metadata": {},
   "outputs": [
    {
     "name": "stdout",
     "output_type": "stream",
     "text": [
      "4 504\n"
     ]
    }
   ],
   "source": [
    "print(x, total)"
   ]
  },
  {
   "cell_type": "code",
   "execution_count": 165,
   "id": "4e6943d5",
   "metadata": {},
   "outputs": [],
   "source": [
    "# 'pass' is the no-op statement in Python. It can be used in blocks where no action \n",
    "# is to be taken, or as a placeholder for code not yet implemented."
   ]
  },
  {
   "cell_type": "code",
   "execution_count": 166,
   "id": "a1fedfff",
   "metadata": {},
   "outputs": [
    {
     "name": "stdout",
     "output_type": "stream",
     "text": [
      "positive\n"
     ]
    }
   ],
   "source": [
    "if x < 0:\n",
    "    print('negative')\n",
    "elif x == 0:\n",
    "    # TODO\n",
    "    pass\n",
    "else:\n",
    "    print('positive')"
   ]
  },
  {
   "cell_type": "code",
   "execution_count": 167,
   "id": "7fbe68b1",
   "metadata": {},
   "outputs": [],
   "source": [
    "# The range() function returns an iterator that yields a sequence of evenly spaced\n",
    "# integers:"
   ]
  },
  {
   "cell_type": "code",
   "execution_count": 168,
   "id": "6460b0bb",
   "metadata": {},
   "outputs": [
    {
     "data": {
      "text/plain": [
       "range(0, 10)"
      ]
     },
     "execution_count": 168,
     "metadata": {},
     "output_type": "execute_result"
    }
   ],
   "source": [
    "range(10)"
   ]
  },
  {
   "cell_type": "code",
   "execution_count": 169,
   "id": "09a25c2f",
   "metadata": {},
   "outputs": [
    {
     "data": {
      "text/plain": [
       "[0, 1, 2, 3, 4, 5, 6, 7, 8, 9]"
      ]
     },
     "execution_count": 169,
     "metadata": {},
     "output_type": "execute_result"
    }
   ],
   "source": [
    "list(range(10))"
   ]
  },
  {
   "cell_type": "code",
   "execution_count": 172,
   "id": "48c1f44d",
   "metadata": {},
   "outputs": [],
   "source": [
    "# Both start, end, and step can be given:"
   ]
  },
  {
   "cell_type": "code",
   "execution_count": 173,
   "id": "8269ba33",
   "metadata": {},
   "outputs": [
    {
     "data": {
      "text/plain": [
       "[0, 2, 4, 6, 8, 10, 12, 14, 16, 18]"
      ]
     },
     "execution_count": 173,
     "metadata": {},
     "output_type": "execute_result"
    }
   ],
   "source": [
    "list(range(0, 20, 2))"
   ]
  },
  {
   "cell_type": "code",
   "execution_count": 174,
   "id": "e5177bfa",
   "metadata": {},
   "outputs": [
    {
     "data": {
      "text/plain": [
       "[20, 18, 16, 14, 12, 10, 8, 6, 4, 2]"
      ]
     },
     "execution_count": 174,
     "metadata": {},
     "output_type": "execute_result"
    }
   ],
   "source": [
    "list(range(20, 0, -2))"
   ]
  },
  {
   "cell_type": "code",
   "execution_count": 176,
   "id": "0ff7fdea",
   "metadata": {},
   "outputs": [],
   "source": [
    "# A ternary expression in Python allows you to combine an if-else block that produces\n",
    "# a value into a single line or expression:\n",
    "# \n",
    "# value = true_expr if condition else false_expr\n",
    "#\n",
    "# This is the same as:\n",
    "# \n",
    "# if condition:\n",
    "#     value = true_expr\n",
    "# else:\n",
    "#     value = false_expr"
   ]
  },
  {
   "cell_type": "code",
   "execution_count": null,
   "id": "6dfc04d3",
   "metadata": {},
   "outputs": [],
   "source": []
  }
 ],
 "metadata": {
  "kernelspec": {
   "display_name": "Python 3",
   "language": "python",
   "name": "python3"
  },
  "language_info": {
   "codemirror_mode": {
    "name": "ipython",
    "version": 3
   },
   "file_extension": ".py",
   "mimetype": "text/x-python",
   "name": "python",
   "nbconvert_exporter": "python",
   "pygments_lexer": "ipython3",
   "version": "3.8.8"
  }
 },
 "nbformat": 4,
 "nbformat_minor": 5
}
