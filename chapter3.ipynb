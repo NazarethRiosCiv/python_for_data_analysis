{
 "cells": [
  {
   "cell_type": "code",
   "execution_count": 7,
   "id": "c23565cf",
   "metadata": {},
   "outputs": [],
   "source": [
    "#### Chapter 3: Built-in Data Structures, Functions, and Files ####"
   ]
  },
  {
   "cell_type": "markdown",
   "id": "209d9aa4",
   "metadata": {},
   "source": [
    "### Tuples "
   ]
  },
  {
   "cell_type": "code",
   "execution_count": 9,
   "id": "4a081e98",
   "metadata": {},
   "outputs": [],
   "source": [
    "# A tuple is a fixed-length, immutable sequence of objects:"
   ]
  },
  {
   "cell_type": "code",
   "execution_count": 10,
   "id": "360cbc00",
   "metadata": {},
   "outputs": [
    {
     "data": {
      "text/plain": [
       "(4, 5, 6)"
      ]
     },
     "execution_count": 10,
     "metadata": {},
     "output_type": "execute_result"
    }
   ],
   "source": [
    "# Can be formed with no parentheses:\n",
    "tup = 4, 5, 6\n",
    "tup"
   ]
  },
  {
   "cell_type": "code",
   "execution_count": 11,
   "id": "425abbb4",
   "metadata": {},
   "outputs": [
    {
     "data": {
      "text/plain": [
       "(4, 5, 6)"
      ]
     },
     "execution_count": 11,
     "metadata": {},
     "output_type": "execute_result"
    }
   ],
   "source": [
    "# Or with parentheses:\n",
    "alt_tup = (4, 5, 6)\n",
    "alt_tup"
   ]
  },
  {
   "cell_type": "code",
   "execution_count": 12,
   "id": "5a4acbb2",
   "metadata": {},
   "outputs": [
    {
     "data": {
      "text/plain": [
       "(1, 2, 3, 4)"
      ]
     },
     "execution_count": 12,
     "metadata": {},
     "output_type": "execute_result"
    }
   ],
   "source": [
    "# You can convert any sequence or iterator to a tuple:\n",
    "tuple([1, 2, 3, 4])"
   ]
  },
  {
   "cell_type": "code",
   "execution_count": 13,
   "id": "bd585749",
   "metadata": {},
   "outputs": [
    {
     "data": {
      "text/plain": [
       "4"
      ]
     },
     "execution_count": 13,
     "metadata": {},
     "output_type": "execute_result"
    }
   ],
   "source": [
    "# Elements can be accessed with square brackets:\n",
    "tup[0]"
   ]
  },
  {
   "cell_type": "code",
   "execution_count": 14,
   "id": "8578779c",
   "metadata": {},
   "outputs": [],
   "source": [
    "# While the objects stored in a tuple may be mutable themselves, once a \n",
    "# tuple is created it's not possible to modify which object is stored\n",
    "# in each slot:\n",
    "tup = ('foo', [1, 2], True)"
   ]
  },
  {
   "cell_type": "code",
   "execution_count": 15,
   "id": "7cdabf79",
   "metadata": {},
   "outputs": [],
   "source": [
    "# Append an element to nested list:\n",
    "tup[1].append(3)"
   ]
  },
  {
   "cell_type": "code",
   "execution_count": 16,
   "id": "87aef6fd",
   "metadata": {},
   "outputs": [
    {
     "data": {
      "text/plain": [
       "('foo', [1, 2, 3], True)"
      ]
     },
     "execution_count": 16,
     "metadata": {},
     "output_type": "execute_result"
    }
   ],
   "source": [
    "tup"
   ]
  },
  {
   "cell_type": "code",
   "execution_count": 18,
   "id": "3d4d0275",
   "metadata": {},
   "outputs": [
    {
     "data": {
      "text/plain": [
       "(4, None, 'foo', 6, 0, 'bar')"
      ]
     },
     "execution_count": 18,
     "metadata": {},
     "output_type": "execute_result"
    }
   ],
   "source": [
    "# You can concatenate tuples using the + operator:\n",
    "(4, None, 'foo') + (6, 0) + ('bar',)"
   ]
  },
  {
   "cell_type": "code",
   "execution_count": 19,
   "id": "328f1d38",
   "metadata": {},
   "outputs": [
    {
     "data": {
      "text/plain": [
       "('foo', 'bar', 'foo', 'bar', 'foo', 'bar', 'foo', 'bar')"
      ]
     },
     "execution_count": 19,
     "metadata": {},
     "output_type": "execute_result"
    }
   ],
   "source": [
    "# Multiplying a tuple by an integer has the effect of concatenating\n",
    "# together that many copies of the tuple:\n",
    "('foo', 'bar') * 4"
   ]
  },
  {
   "cell_type": "code",
   "execution_count": 20,
   "id": "d6a10b8e",
   "metadata": {},
   "outputs": [],
   "source": [
    "# If you try to assign to a tuple-like expression of variables, Python\n",
    "# will attempt to unpack the values:\n",
    "tup = (4, 5, 6)\n",
    "a, b, c = tup"
   ]
  },
  {
   "cell_type": "code",
   "execution_count": 21,
   "id": "0c10ab2c",
   "metadata": {},
   "outputs": [
    {
     "name": "stdout",
     "output_type": "stream",
     "text": [
      "4 5 6\n"
     ]
    }
   ],
   "source": [
    "print(a, b, c)"
   ]
  },
  {
   "cell_type": "code",
   "execution_count": 22,
   "id": "843544f5",
   "metadata": {},
   "outputs": [],
   "source": [
    "# Even sequences with nested tuples can be unpacked:\n",
    "tup = 4, 5, (6, 7)\n",
    "a, b, (c, d) = tup"
   ]
  },
  {
   "cell_type": "code",
   "execution_count": 23,
   "id": "9be26a16",
   "metadata": {},
   "outputs": [
    {
     "name": "stdout",
     "output_type": "stream",
     "text": [
      "6 7\n"
     ]
    }
   ],
   "source": [
    "print(c, d)"
   ]
  },
  {
   "cell_type": "code",
   "execution_count": 24,
   "id": "75356455",
   "metadata": {},
   "outputs": [
    {
     "name": "stdout",
     "output_type": "stream",
     "text": [
      "a=1, b=2, c=3\n",
      "a=4, b=5, c=6\n",
      "a=7, b=8, c=9\n"
     ]
    }
   ],
   "source": [
    "# A common use of variable unpacking is iterating over sequences of tuples/lists:\n",
    "seq = [(1, 2, 3), (4, 5, 6), (7, 8, 9)]\n",
    "for a, b, c in seq:\n",
    "    print(f'a={a}, b={b}, c={c}')"
   ]
  },
  {
   "cell_type": "code",
   "execution_count": 26,
   "id": "2464a613",
   "metadata": {},
   "outputs": [],
   "source": [
    "# You can also just pluck the first few elements from a sequence using *rest:\n",
    "values = 1, 2, 3, 4, 5\n",
    "a, b, *rest = values"
   ]
  },
  {
   "cell_type": "code",
   "execution_count": 28,
   "id": "a04de186",
   "metadata": {},
   "outputs": [
    {
     "name": "stdout",
     "output_type": "stream",
     "text": [
      "1 2 [3, 4, 5]\n"
     ]
    }
   ],
   "source": [
    "print(a, b, rest)"
   ]
  },
  {
   "cell_type": "code",
   "execution_count": 29,
   "id": "5290eeac",
   "metadata": {},
   "outputs": [],
   "source": [
    "# The 'rest' bit is sometimes something you want to discard; there is nothing special\n",
    "# about the 'rest' name. By convention, programmers will use '_' to indicate values\n",
    "# that are to be discarded:\n",
    "a, b, *_ = values"
   ]
  },
  {
   "cell_type": "code",
   "execution_count": 30,
   "id": "4ff7cfe6",
   "metadata": {},
   "outputs": [
    {
     "data": {
      "text/plain": [
       "4"
      ]
     },
     "execution_count": 30,
     "metadata": {},
     "output_type": "execute_result"
    }
   ],
   "source": [
    "# Since the size and contents of a tuple cannot be modified, it is very light on\n",
    "# instance methods. A useful one is count, which counts the number of occurrences\n",
    "# of a value:\n",
    "a = (1, 2, 2, 2, 3, 4, 2)\n",
    "a.count(2)"
   ]
  },
  {
   "cell_type": "markdown",
   "id": "bec1627c",
   "metadata": {},
   "source": [
    "### Lists"
   ]
  },
  {
   "cell_type": "code",
   "execution_count": 32,
   "id": "c26b665e",
   "metadata": {},
   "outputs": [],
   "source": [
    "# In contrast to tuples, lists are variable length and their contents can be modified\n",
    "# in-place. You can define them with square brackets:\n",
    "a = [2, 3, 7, None]"
   ]
  },
  {
   "cell_type": "code",
   "execution_count": 33,
   "id": "09d9f7ee",
   "metadata": {},
   "outputs": [],
   "source": [
    "# Lists and tuples are semantically similar and can be used interchangeably in many functions"
   ]
  },
  {
   "cell_type": "code",
   "execution_count": 34,
   "id": "cf9f33c1",
   "metadata": {},
   "outputs": [],
   "source": [
    "# The list function is frequently used in data processing as a way to materialize an \n",
    "# iterator or generator expression:\n",
    "gen = range(10)"
   ]
  },
  {
   "cell_type": "code",
   "execution_count": 35,
   "id": "b6ca8463",
   "metadata": {},
   "outputs": [
    {
     "data": {
      "text/plain": [
       "range(0, 10)"
      ]
     },
     "execution_count": 35,
     "metadata": {},
     "output_type": "execute_result"
    }
   ],
   "source": [
    "gen"
   ]
  },
  {
   "cell_type": "code",
   "execution_count": 36,
   "id": "ef3bc949",
   "metadata": {},
   "outputs": [
    {
     "data": {
      "text/plain": [
       "[0, 1, 2, 3, 4, 5, 6, 7, 8, 9]"
      ]
     },
     "execution_count": 36,
     "metadata": {},
     "output_type": "execute_result"
    }
   ],
   "source": [
    "list(gen)"
   ]
  },
  {
   "cell_type": "code",
   "execution_count": 37,
   "id": "58d16ff1",
   "metadata": {},
   "outputs": [],
   "source": [
    "# Elements can be appended to the end of the list with the append method:\n",
    "b = ['foo', 'peekaboo', 'baz']\n",
    "b.append('dwarf')"
   ]
  },
  {
   "cell_type": "code",
   "execution_count": 38,
   "id": "a8f124b4",
   "metadata": {},
   "outputs": [
    {
     "data": {
      "text/plain": [
       "['foo', 'peekaboo', 'baz', 'dwarf']"
      ]
     },
     "execution_count": 38,
     "metadata": {},
     "output_type": "execute_result"
    }
   ],
   "source": [
    "b"
   ]
  },
  {
   "cell_type": "code",
   "execution_count": 39,
   "id": "b1b7825f",
   "metadata": {},
   "outputs": [],
   "source": [
    "# Using insert you can insert an element at a specific location in the list:\n",
    "b.insert(1, 'red')"
   ]
  },
  {
   "cell_type": "code",
   "execution_count": 40,
   "id": "b726a1a5",
   "metadata": {},
   "outputs": [
    {
     "data": {
      "text/plain": [
       "['foo', 'red', 'peekaboo', 'baz', 'dwarf']"
      ]
     },
     "execution_count": 40,
     "metadata": {},
     "output_type": "execute_result"
    }
   ],
   "source": [
    "b"
   ]
  },
  {
   "cell_type": "code",
   "execution_count": 41,
   "id": "936e7b10",
   "metadata": {},
   "outputs": [],
   "source": [
    "# Warning: 'insert' is computationally expensive compared with 'append', because\n",
    "# references to subsequent elements have to be shifted internally to make room\n",
    "# for the new element.\n",
    "\n",
    "# If you need to insert elements at both the beginning and end of a sequence, \n",
    "# try exploring collections.deque, a double-ended queue"
   ]
  },
  {
   "cell_type": "code",
   "execution_count": 42,
   "id": "a8243a90",
   "metadata": {},
   "outputs": [
    {
     "data": {
      "text/plain": [
       "'peekaboo'"
      ]
     },
     "execution_count": 42,
     "metadata": {},
     "output_type": "execute_result"
    }
   ],
   "source": [
    "# The inverse operation to insert is pop, which removes and returns an element\n",
    "# at a particular index:\n",
    "b.pop(2)"
   ]
  },
  {
   "cell_type": "code",
   "execution_count": 44,
   "id": "730275a2",
   "metadata": {},
   "outputs": [
    {
     "data": {
      "text/plain": [
       "'dwarf'"
      ]
     },
     "execution_count": 44,
     "metadata": {},
     "output_type": "execute_result"
    }
   ],
   "source": [
    "# By default, 'pop' will remove the last element:\n",
    "b.pop()"
   ]
  },
  {
   "cell_type": "code",
   "execution_count": 45,
   "id": "6bc8ee50",
   "metadata": {},
   "outputs": [
    {
     "data": {
      "text/plain": [
       "['foo', 'red', 'baz']"
      ]
     },
     "execution_count": 45,
     "metadata": {},
     "output_type": "execute_result"
    }
   ],
   "source": [
    "b"
   ]
  },
  {
   "cell_type": "code",
   "execution_count": 46,
   "id": "0d68cabf",
   "metadata": {},
   "outputs": [
    {
     "data": {
      "text/plain": [
       "['foo', 'red', 'baz', 'foo']"
      ]
     },
     "execution_count": 46,
     "metadata": {},
     "output_type": "execute_result"
    }
   ],
   "source": [
    "# Elements can be removed by value with 'remove', which locates the first such \n",
    "# value and removes it from the list:\n",
    "b.append('foo')\n",
    "b"
   ]
  },
  {
   "cell_type": "code",
   "execution_count": 47,
   "id": "f4e1adef",
   "metadata": {},
   "outputs": [],
   "source": [
    "b.remove('foo')"
   ]
  },
  {
   "cell_type": "code",
   "execution_count": 48,
   "id": "a22b6e99",
   "metadata": {},
   "outputs": [
    {
     "data": {
      "text/plain": [
       "['red', 'baz', 'foo']"
      ]
     },
     "execution_count": 48,
     "metadata": {},
     "output_type": "execute_result"
    }
   ],
   "source": [
    "b"
   ]
  },
  {
   "cell_type": "code",
   "execution_count": 49,
   "id": "f4eb515e",
   "metadata": {},
   "outputs": [
    {
     "data": {
      "text/plain": [
       "False"
      ]
     },
     "execution_count": 49,
     "metadata": {},
     "output_type": "execute_result"
    }
   ],
   "source": [
    "# You can check if a list contains a value using the 'in' keyword:\n",
    "'dwarf' in b"
   ]
  },
  {
   "cell_type": "code",
   "execution_count": 50,
   "id": "a5f6fbb5",
   "metadata": {},
   "outputs": [
    {
     "data": {
      "text/plain": [
       "True"
      ]
     },
     "execution_count": 50,
     "metadata": {},
     "output_type": "execute_result"
    }
   ],
   "source": [
    "# The keyword 'not' can be used for negation:\n",
    "'dwarf' not in b"
   ]
  },
  {
   "cell_type": "code",
   "execution_count": 51,
   "id": "515224c4",
   "metadata": {},
   "outputs": [],
   "source": [
    "# Warning: checking whether a list contains a value is a lot slower than doing so\n",
    "# with a dictionary or set, as Python makes a linear scan across the values of\n",
    "# the list, whereas it can check the others (based on hash tables) in constant time"
   ]
  },
  {
   "cell_type": "code",
   "execution_count": 52,
   "id": "7d212f05",
   "metadata": {},
   "outputs": [
    {
     "data": {
      "text/plain": [
       "[4, None, 'foo', 7, 8, (2, 3)]"
      ]
     },
     "execution_count": 52,
     "metadata": {},
     "output_type": "execute_result"
    }
   ],
   "source": [
    "# Similar to tuples, adding two lists together with + concatenates them:\n",
    "[4, None, 'foo'] + [7, 8, (2, 3)]"
   ]
  },
  {
   "cell_type": "code",
   "execution_count": 53,
   "id": "f56b048c",
   "metadata": {},
   "outputs": [
    {
     "data": {
      "text/plain": [
       "[4, None, 'foo', 7, 8, (2, 3)]"
      ]
     },
     "execution_count": 53,
     "metadata": {},
     "output_type": "execute_result"
    }
   ],
   "source": [
    "# If you have a list already defined, you can append multiple elements to it using\n",
    "# the 'extend' method:\n",
    "x = [4, None, 'foo']\n",
    "x.extend([7, 8, (2, 3)])\n",
    "x"
   ]
  },
  {
   "cell_type": "code",
   "execution_count": 55,
   "id": "5b007265",
   "metadata": {},
   "outputs": [],
   "source": [
    "# Note that list concatentation by addition is a comparatively expensive operation since\n",
    "# a new list must be created and the objects copied over. Using 'extend' to append elements\n",
    "# to an existing list, especially if you are building up a large list, is usually preferred:\n",
    "#\n",
    "# # slower\n",
    "# everything = []\n",
    "# for chunk in list_of_lists:\n",
    "#     everything = everything + chunk\n",
    "# \n",
    "# # faster\n",
    "# everything = []\n",
    "# for chunk in list_of_lists:\n",
    "#     everything.extend(chunk)"
   ]
  },
  {
   "cell_type": "code",
   "execution_count": 56,
   "id": "11c17ae1",
   "metadata": {},
   "outputs": [
    {
     "data": {
      "text/plain": [
       "[1, 2, 3, 5, 7]"
      ]
     },
     "execution_count": 56,
     "metadata": {},
     "output_type": "execute_result"
    }
   ],
   "source": [
    "# You can sort a list in-place (without creating a new object) by calling its sort method:\n",
    "a = [7, 2, 5, 1, 3]\n",
    "a.sort()\n",
    "a"
   ]
  },
  {
   "cell_type": "code",
   "execution_count": 57,
   "id": "3a573aa0",
   "metadata": {},
   "outputs": [
    {
     "data": {
      "text/plain": [
       "['He', 'saw', 'six', 'small', 'foxes']"
      ]
     },
     "execution_count": 57,
     "metadata": {},
     "output_type": "execute_result"
    }
   ],
   "source": [
    "# 'sort' has a few options that will occasionally come in handy. One is the ability to pass\n",
    "# a secondary sort key (a function that produces a value to use to sort the objects):\n",
    "b = ['saw', 'small', 'He', 'foxes', 'six']\n",
    "b.sort(key=len)\n",
    "b"
   ]
  },
  {
   "cell_type": "code",
   "execution_count": 58,
   "id": "4b35618e",
   "metadata": {},
   "outputs": [
    {
     "data": {
      "text/plain": [
       "4"
      ]
     },
     "execution_count": 58,
     "metadata": {},
     "output_type": "execute_result"
    }
   ],
   "source": [
    "# The built-in bisect module implements binary search and insertion into a sorted list. \n",
    "# 'bisect.bisect' finds the location where an element should be inserted to keep it \n",
    "# sorted, while 'bisect.insort' actually inserts the element into that location:\n",
    "import bisect\n",
    "c = [1, 2, 2, 2, 3, 4, 7]\n",
    "bisect.bisect(c, 2)"
   ]
  },
  {
   "cell_type": "code",
   "execution_count": 59,
   "id": "06323435",
   "metadata": {},
   "outputs": [
    {
     "data": {
      "text/plain": [
       "6"
      ]
     },
     "execution_count": 59,
     "metadata": {},
     "output_type": "execute_result"
    }
   ],
   "source": [
    "bisect.bisect(c, 5)"
   ]
  },
  {
   "cell_type": "code",
   "execution_count": 60,
   "id": "6bd6cea7",
   "metadata": {},
   "outputs": [],
   "source": [
    "bisect.insort(c, 6)"
   ]
  },
  {
   "cell_type": "code",
   "execution_count": 61,
   "id": "3b616e5f",
   "metadata": {},
   "outputs": [
    {
     "data": {
      "text/plain": [
       "[1, 2, 2, 2, 3, 4, 6, 7]"
      ]
     },
     "execution_count": 61,
     "metadata": {},
     "output_type": "execute_result"
    }
   ],
   "source": [
    "c"
   ]
  },
  {
   "cell_type": "code",
   "execution_count": 62,
   "id": "c419e5ac",
   "metadata": {},
   "outputs": [
    {
     "data": {
      "text/plain": [
       "[2, 3, 7, 5]"
      ]
     },
     "execution_count": 62,
     "metadata": {},
     "output_type": "execute_result"
    }
   ],
   "source": [
    "# You can select sections of most sequence types by using slice notation, which in its\n",
    "# basic form consists of start:stop passed to the indexing operator:\n",
    "seq = [7, 2, 3, 7, 5, 6, 0, 1]\n",
    "seq[1:5]"
   ]
  },
  {
   "cell_type": "code",
   "execution_count": 63,
   "id": "f4957334",
   "metadata": {},
   "outputs": [],
   "source": [
    "# Slices can also be assigned to with a sequence:\n",
    "seq[3:4] = [6, 3]"
   ]
  },
  {
   "cell_type": "code",
   "execution_count": 64,
   "id": "2cc42482",
   "metadata": {},
   "outputs": [
    {
     "data": {
      "text/plain": [
       "[7, 2, 3, 6, 3, 5, 6, 0, 1]"
      ]
     },
     "execution_count": 64,
     "metadata": {},
     "output_type": "execute_result"
    }
   ],
   "source": [
    "seq"
   ]
  },
  {
   "cell_type": "code",
   "execution_count": 65,
   "id": "600dd66d",
   "metadata": {},
   "outputs": [],
   "source": [
    "# While the element at the 'start' index is included, the 'stop' index is not included, so\n",
    "# that the number of elements in the result is stop - start"
   ]
  },
  {
   "cell_type": "code",
   "execution_count": 66,
   "id": "50954639",
   "metadata": {},
   "outputs": [
    {
     "name": "stdout",
     "output_type": "stream",
     "text": [
      "[7, 2, 3, 6, 3]\n",
      "[6, 3, 5, 6, 0, 1]\n",
      "[7, 2, 3, 6, 3, 5, 6, 0, 1]\n"
     ]
    }
   ],
   "source": [
    "# Either the start or stop index can be omitted, in which case they default to the start\n",
    "# of the sequence and the end of the sequence, respectively:\n",
    "print(seq[:5])\n",
    "print(seq[3:])\n",
    "print(seq[:])"
   ]
  },
  {
   "cell_type": "code",
   "execution_count": 67,
   "id": "3e26a137",
   "metadata": {},
   "outputs": [
    {
     "name": "stdout",
     "output_type": "stream",
     "text": [
      "[5, 6, 0, 1]\n",
      "[6, 3, 5, 6]\n"
     ]
    }
   ],
   "source": [
    "# Negative indices slice the sequence relative to the end:\n",
    "print(seq[-4:])\n",
    "print(seq[-6:-2])"
   ]
  },
  {
   "cell_type": "code",
   "execution_count": 68,
   "id": "ec29559a",
   "metadata": {},
   "outputs": [
    {
     "data": {
      "text/plain": [
       "[7, 3, 3, 6, 1]"
      ]
     },
     "execution_count": 68,
     "metadata": {},
     "output_type": "execute_result"
    }
   ],
   "source": [
    "# A step can also be used after a second colon:\n",
    "seq[::2]"
   ]
  },
  {
   "cell_type": "code",
   "execution_count": 69,
   "id": "69ce3234",
   "metadata": {},
   "outputs": [
    {
     "data": {
      "text/plain": [
       "[1, 0, 6, 5, 3, 6, 3, 2, 7]"
      ]
     },
     "execution_count": 69,
     "metadata": {},
     "output_type": "execute_result"
    }
   ],
   "source": [
    "# A clever use of this is to pass -1, which has the effect of reversing a list/tuple:\n",
    "seq[::-1]"
   ]
  },
  {
   "cell_type": "markdown",
   "id": "c0c9c038",
   "metadata": {},
   "source": [
    "### Sequence Functions"
   ]
  },
  {
   "cell_type": "code",
   "execution_count": 70,
   "id": "d8ed2fd9",
   "metadata": {},
   "outputs": [
    {
     "data": {
      "text/plain": [
       "{'foo': 0, 'bar': 1, 'baz': 2}"
      ]
     },
     "execution_count": 70,
     "metadata": {},
     "output_type": "execute_result"
    }
   ],
   "source": [
    "# It's common when iterating over a sequence to want to keep track of the index of the\n",
    "# current item. Python has a built-in function enumerate() which returns a sequence of\n",
    "# (i, value) tuples:\n",
    "some_list = ['foo', 'bar', 'baz']\n",
    "mapping = {}\n",
    "for i, v in enumerate(some_list):\n",
    "    mapping[v] = i\n",
    "mapping"
   ]
  },
  {
   "cell_type": "code",
   "execution_count": 78,
   "id": "3d367b20",
   "metadata": {},
   "outputs": [
    {
     "data": {
      "text/plain": [
       "[7, 6, 3, 2, 2, 1, 0]"
      ]
     },
     "execution_count": 78,
     "metadata": {},
     "output_type": "execute_result"
    }
   ],
   "source": [
    "# The sorted() function returns a new sorted list from the elements of any sequence:\n",
    "sorted([7, 1, 2, 6, 0, 3, 2], key=lambda x: -x)"
   ]
  },
  {
   "cell_type": "code",
   "execution_count": 79,
   "id": "ba8ba5a6",
   "metadata": {},
   "outputs": [],
   "source": [
    "# The 'zip' function pairs up the elements of a number of lists, tuples, or other\n",
    "# sequences to create a list of tuples:\n",
    "seq1 = ['foo', 'bar', 'baz']\n",
    "seq2 = ['one', 'two', 'three']\n",
    "zipped = zip(seq1, seq2)"
   ]
  },
  {
   "cell_type": "code",
   "execution_count": 81,
   "id": "ad6e6409",
   "metadata": {},
   "outputs": [
    {
     "data": {
      "text/plain": [
       "[('foo', 'one'), ('bar', 'two'), ('baz', 'three')]"
      ]
     },
     "execution_count": 81,
     "metadata": {},
     "output_type": "execute_result"
    }
   ],
   "source": [
    "list(zipped)"
   ]
  },
  {
   "cell_type": "code",
   "execution_count": 82,
   "id": "3dc602bb",
   "metadata": {},
   "outputs": [
    {
     "name": "stdout",
     "output_type": "stream",
     "text": [
      "0: foo, one\n",
      "1: bar, two\n",
      "2: baz, three\n"
     ]
    }
   ],
   "source": [
    "# A very common use of zip is simultaneously iterating over multiple sequences:\n",
    "for i, (a, b) in enumerate(zip(seq1, seq2)):\n",
    "    print(f'{i}: {a}, {b}')"
   ]
  },
  {
   "cell_type": "code",
   "execution_count": 83,
   "id": "0653ab0a",
   "metadata": {},
   "outputs": [],
   "source": [
    "# Given a zipped sequence, zip can be applied to unzip the sequence:\n",
    "pitchers = [('Nolan', 'Ryan'), ('Randy', 'Johnson'), ('Curt', 'Schilling')]\n",
    "first_names, last_names = zip(*pitchers)"
   ]
  },
  {
   "cell_type": "code",
   "execution_count": 84,
   "id": "e23d9802",
   "metadata": {},
   "outputs": [
    {
     "data": {
      "text/plain": [
       "('Nolan', 'Randy', 'Curt')"
      ]
     },
     "execution_count": 84,
     "metadata": {},
     "output_type": "execute_result"
    }
   ],
   "source": [
    "first_names"
   ]
  },
  {
   "cell_type": "code",
   "execution_count": 85,
   "id": "5a3fe003",
   "metadata": {},
   "outputs": [
    {
     "data": {
      "text/plain": [
       "('Ryan', 'Johnson', 'Schilling')"
      ]
     },
     "execution_count": 85,
     "metadata": {},
     "output_type": "execute_result"
    }
   ],
   "source": [
    "last_names"
   ]
  },
  {
   "cell_type": "code",
   "execution_count": 87,
   "id": "a3fc8e3a",
   "metadata": {},
   "outputs": [
    {
     "data": {
      "text/plain": [
       "[5, 4, 3, 2, 1]"
      ]
     },
     "execution_count": 87,
     "metadata": {},
     "output_type": "execute_result"
    }
   ],
   "source": [
    "# 'reversed' iterates over the elements of a sequence in reverse order:\n",
    "list(reversed([1, 2, 3, 4, 5]))"
   ]
  },
  {
   "cell_type": "code",
   "execution_count": 88,
   "id": "eda4cece",
   "metadata": {},
   "outputs": [],
   "source": [
    "# Keep in mind that reversed is a generator, so it does not create the reversed sequence\n",
    "# until materialized (with list() or a for loop)"
   ]
  },
  {
   "cell_type": "markdown",
   "id": "961b7523",
   "metadata": {},
   "source": [
    "### Dictionaries"
   ]
  },
  {
   "cell_type": "code",
   "execution_count": 91,
   "id": "c72d2c5f",
   "metadata": {},
   "outputs": [],
   "source": [
    "# Dictionaries are likely the most important built-in Python data structure. A more common\n",
    "# name for it is 'hash map' or 'associtative array'. It is a flexibly sized collection of\n",
    "# key-value pairs, where key and value are Python objects. \n",
    "dict1 = {'a': 'some value', 'b': [1, 2, 3, 4]}"
   ]
  },
  {
   "cell_type": "code",
   "execution_count": 92,
   "id": "f0f42af9",
   "metadata": {},
   "outputs": [
    {
     "data": {
      "text/plain": [
       "{'a': 'some value', 'b': [1, 2, 3, 4]}"
      ]
     },
     "execution_count": 92,
     "metadata": {},
     "output_type": "execute_result"
    }
   ],
   "source": [
    "dict1"
   ]
  },
  {
   "cell_type": "code",
   "execution_count": 93,
   "id": "782ed042",
   "metadata": {},
   "outputs": [],
   "source": [
    "# You can access, insert, or set elements using the same syntax for lists/tuples:\n",
    "dict1[7] = 'an integer'"
   ]
  },
  {
   "cell_type": "code",
   "execution_count": 94,
   "id": "b32a115b",
   "metadata": {},
   "outputs": [
    {
     "data": {
      "text/plain": [
       "{'a': 'some value', 'b': [1, 2, 3, 4], 7: 'an integer'}"
      ]
     },
     "execution_count": 94,
     "metadata": {},
     "output_type": "execute_result"
    }
   ],
   "source": [
    "dict1"
   ]
  },
  {
   "cell_type": "code",
   "execution_count": 96,
   "id": "478726ad",
   "metadata": {},
   "outputs": [
    {
     "data": {
      "text/plain": [
       "[1, 2, 3, 4]"
      ]
     },
     "execution_count": 96,
     "metadata": {},
     "output_type": "execute_result"
    }
   ],
   "source": [
    "dict1['b']"
   ]
  },
  {
   "cell_type": "code",
   "execution_count": 97,
   "id": "d961f9ed",
   "metadata": {},
   "outputs": [
    {
     "data": {
      "text/plain": [
       "True"
      ]
     },
     "execution_count": 97,
     "metadata": {},
     "output_type": "execute_result"
    }
   ],
   "source": [
    "# You can check if a dict contains a key using the same syntax used for checking\n",
    "# whether a list/tuple contains a value:\n",
    "'b' in dict1"
   ]
  },
  {
   "cell_type": "code",
   "execution_count": 109,
   "id": "7d50fd20",
   "metadata": {},
   "outputs": [
    {
     "data": {
      "text/plain": [
       "{'a': 'some value',\n",
       " 'b': [1, 2, 3, 4],\n",
       " 7: 'an integer',\n",
       " 5: 'some value',\n",
       " 'dummy': 'another value'}"
      ]
     },
     "execution_count": 109,
     "metadata": {},
     "output_type": "execute_result"
    }
   ],
   "source": [
    "# You can delete values either using the del keyword or the pop method (which simultaneously\n",
    "# returns the value and deletes the key):\n",
    "dict1[5] = 'some value'\n",
    "dict1['dummy'] = 'another value'\n",
    "dict1"
   ]
  },
  {
   "cell_type": "code",
   "execution_count": 110,
   "id": "71612e10",
   "metadata": {},
   "outputs": [
    {
     "data": {
      "text/plain": [
       "{'a': 'some value',\n",
       " 'b': [1, 2, 3, 4],\n",
       " 7: 'an integer',\n",
       " 'dummy': 'another value'}"
      ]
     },
     "execution_count": 110,
     "metadata": {},
     "output_type": "execute_result"
    }
   ],
   "source": [
    "del dict1[5]\n",
    "dict1"
   ]
  },
  {
   "cell_type": "code",
   "execution_count": 111,
   "id": "30c9f119",
   "metadata": {},
   "outputs": [
    {
     "data": {
      "text/plain": [
       "{'a': 'some value', 'b': [1, 2, 3, 4], 7: 'an integer'}"
      ]
     },
     "execution_count": 111,
     "metadata": {},
     "output_type": "execute_result"
    }
   ],
   "source": [
    "# For dicts, pop() has no default behavior (as it did with lists):\n",
    "ret = dict1.pop('dummy')\n",
    "dict1"
   ]
  },
  {
   "cell_type": "code",
   "execution_count": 112,
   "id": "6037afb8",
   "metadata": {},
   "outputs": [
    {
     "data": {
      "text/plain": [
       "'another value'"
      ]
     },
     "execution_count": 112,
     "metadata": {},
     "output_type": "execute_result"
    }
   ],
   "source": [
    "ret"
   ]
  },
  {
   "cell_type": "code",
   "execution_count": 113,
   "id": "63ab2202",
   "metadata": {},
   "outputs": [
    {
     "data": {
      "text/plain": [
       "['a', 'b', 7]"
      ]
     },
     "execution_count": 113,
     "metadata": {},
     "output_type": "execute_result"
    }
   ],
   "source": [
    "# You can access the keys and values with iterator methods:\n",
    "list(dict1.keys())"
   ]
  },
  {
   "cell_type": "code",
   "execution_count": 115,
   "id": "b6d348e0",
   "metadata": {},
   "outputs": [
    {
     "data": {
      "text/plain": [
       "['some value', [1, 2, 3, 4], 'an integer']"
      ]
     },
     "execution_count": 115,
     "metadata": {},
     "output_type": "execute_result"
    }
   ],
   "source": [
    "# While the key-value pairs are not in any particular order, these functions output \n",
    "# the keys and values in the same order\n",
    "list(dict1.values())"
   ]
  },
  {
   "cell_type": "code",
   "execution_count": 116,
   "id": "80ee6f34",
   "metadata": {},
   "outputs": [],
   "source": [
    "# You can merge one dict into another using the update method:\n",
    "dict1.update({'b': 'foo', 'c': 12})"
   ]
  },
  {
   "cell_type": "code",
   "execution_count": 118,
   "id": "7d99d62f",
   "metadata": {},
   "outputs": [
    {
     "data": {
      "text/plain": [
       "{'a': 'some value', 'b': 'foo', 7: 'an integer', 'c': 12}"
      ]
     },
     "execution_count": 118,
     "metadata": {},
     "output_type": "execute_result"
    }
   ],
   "source": [
    "# The update method changes dicts in-place, so any existing keys in the data passed\n",
    "# to update() will have their old values discarded\n",
    "dict1"
   ]
  },
  {
   "cell_type": "code",
   "execution_count": 119,
   "id": "bb9f0409",
   "metadata": {},
   "outputs": [],
   "source": [
    "# It's common to end up with two sequences that you want to pair up element-wise in\n",
    "# a dict:\n",
    "#\n",
    "# mapping = {}\n",
    "# for key, value in zip(key_list, value_list):\n",
    "#     mapping[key] = value"
   ]
  },
  {
   "cell_type": "code",
   "execution_count": 121,
   "id": "20ef468c",
   "metadata": {},
   "outputs": [],
   "source": [
    "# Since a dict is essentially a collection of 2-tuples, the dict function accepts a list\n",
    "# of 2-tuples:\n",
    "# \n",
    "mapping = dict(zip(range(5), reversed(range(5))))"
   ]
  },
  {
   "cell_type": "code",
   "execution_count": 122,
   "id": "5c120088",
   "metadata": {},
   "outputs": [
    {
     "data": {
      "text/plain": [
       "{0: 4, 1: 3, 2: 2, 3: 1, 4: 0}"
      ]
     },
     "execution_count": 122,
     "metadata": {},
     "output_type": "execute_result"
    }
   ],
   "source": [
    "mapping"
   ]
  },
  {
   "cell_type": "code",
   "execution_count": null,
   "id": "0885cc0b",
   "metadata": {},
   "outputs": [],
   "source": [
    "# It's also common to have logic like:\n",
    "# \n",
    "# if key in some_dict:\n",
    "#     value = some_dict[key]\n",
    "# else:\n",
    "#     value = default_value"
   ]
  },
  {
   "cell_type": "code",
   "execution_count": 123,
   "id": "14759998",
   "metadata": {},
   "outputs": [],
   "source": [
    "# Thus, the dict methods get and pop can take a default value to be returned, so that\n",
    "# the above if-else block can be written simply as:\n",
    "# \n",
    "# value = some_dict.get(key, default_value)"
   ]
  },
  {
   "cell_type": "code",
   "execution_count": 124,
   "id": "a623e90d",
   "metadata": {},
   "outputs": [],
   "source": [
    "# Sometimes the default value is another collection, like a list:\n",
    "words = ['apple', 'bat', 'bar', 'atom', 'book']\n",
    "by_letter = {}\n",
    "for word in words:\n",
    "    letter = word[0]\n",
    "    if letter not in by_letter:\n",
    "        by_letter[letter] = [word]\n",
    "    else:\n",
    "        by_letter[letter].append(word)"
   ]
  },
  {
   "cell_type": "code",
   "execution_count": 125,
   "id": "01bc2b9c",
   "metadata": {},
   "outputs": [
    {
     "data": {
      "text/plain": [
       "{'a': ['apple', 'atom'], 'b': ['bat', 'bar', 'book']}"
      ]
     },
     "execution_count": 125,
     "metadata": {},
     "output_type": "execute_result"
    }
   ],
   "source": [
    "by_letter"
   ]
  },
  {
   "cell_type": "code",
   "execution_count": 128,
   "id": "1cd8e9bd",
   "metadata": {},
   "outputs": [],
   "source": [
    "# The setdefault() method returns the value of the item with the specified key. If the\n",
    "# the specified key does not exist, it'll return a default value:\n",
    "words = ['apple', 'bat', 'bar', 'atom', 'book']\n",
    "by_letter = {}\n",
    "for word in words:\n",
    "    letter = word[0]\n",
    "    by_letter.setdefault(letter, []).append(word)"
   ]
  },
  {
   "cell_type": "code",
   "execution_count": 129,
   "id": "8d602e8c",
   "metadata": {},
   "outputs": [
    {
     "data": {
      "text/plain": [
       "{'a': ['apple', 'atom'], 'b': ['bat', 'bar', 'book']}"
      ]
     },
     "execution_count": 129,
     "metadata": {},
     "output_type": "execute_result"
    }
   ],
   "source": [
    "by_letter"
   ]
  },
  {
   "cell_type": "code",
   "execution_count": 130,
   "id": "1f6f84e9",
   "metadata": {},
   "outputs": [],
   "source": [
    "# The built-in collections module has a useful class for defaultdict, which makes this\n",
    "# even easier. To create one, you pass a type or function for generating the default\n",
    "# value for each slot in the dict:\n",
    "from collections import defaultdict\n",
    "by_letter = defaultdict(list)\n",
    "for word in words:\n",
    "    by_letter[word[0]].append(word)"
   ]
  },
  {
   "cell_type": "code",
   "execution_count": 131,
   "id": "62ea4b3b",
   "metadata": {},
   "outputs": [
    {
     "data": {
      "text/plain": [
       "defaultdict(list, {'a': ['apple', 'atom'], 'b': ['bat', 'bar', 'book']})"
      ]
     },
     "execution_count": 131,
     "metadata": {},
     "output_type": "execute_result"
    }
   ],
   "source": [
    "by_letter"
   ]
  },
  {
   "cell_type": "markdown",
   "id": "6510b170",
   "metadata": {},
   "source": [
    "### Sets"
   ]
  },
  {
   "cell_type": "code",
   "execution_count": 133,
   "id": "4d6b647b",
   "metadata": {},
   "outputs": [],
   "source": [
    "# A set is an unordered collection of unique elements. You can think of them as dicts,\n",
    "# but with keys only (no values). A set can be created in two ways:\n",
    "a = set([2, 2, 2, 1, 3, 3])\n",
    "b = {1, 2, 3}"
   ]
  },
  {
   "cell_type": "code",
   "execution_count": 134,
   "id": "a47c75eb",
   "metadata": {},
   "outputs": [],
   "source": [
    "# Sets support mathematical set operations like union, intersection, difference, and \n",
    "# symmetric difference:\n",
    "a = {1, 2, 3, 4, 5}\n",
    "b = {3, 4, 5, 6, 7, 8}"
   ]
  },
  {
   "cell_type": "code",
   "execution_count": 135,
   "id": "14ac91a3",
   "metadata": {},
   "outputs": [
    {
     "data": {
      "text/plain": [
       "{1, 2, 3, 4, 5, 6, 7, 8}"
      ]
     },
     "execution_count": 135,
     "metadata": {},
     "output_type": "execute_result"
    }
   ],
   "source": [
    "a.union(b)"
   ]
  },
  {
   "cell_type": "code",
   "execution_count": 137,
   "id": "be93804c",
   "metadata": {},
   "outputs": [
    {
     "data": {
      "text/plain": [
       "{3, 4, 5}"
      ]
     },
     "execution_count": 137,
     "metadata": {},
     "output_type": "execute_result"
    }
   ],
   "source": [
    "a.intersection(b)"
   ]
  },
  {
   "cell_type": "code",
   "execution_count": 139,
   "id": "8ca49377",
   "metadata": {},
   "outputs": [
    {
     "data": {
      "text/plain": [
       "True"
      ]
     },
     "execution_count": 139,
     "metadata": {},
     "output_type": "execute_result"
    }
   ],
   "source": [
    "# Like dicts, set elements must be immutable (hashable). You can also check if a set is\n",
    "# a subset (or superset) of another set:\n",
    "{1, 2, 3}.issubset(a)"
   ]
  },
  {
   "cell_type": "code",
   "execution_count": 140,
   "id": "afe29c1c",
   "metadata": {},
   "outputs": [
    {
     "data": {
      "text/plain": [
       "True"
      ]
     },
     "execution_count": 140,
     "metadata": {},
     "output_type": "execute_result"
    }
   ],
   "source": [
    "{1, 2, 3, 4, 5, 6}.issuperset(a)"
   ]
  },
  {
   "cell_type": "code",
   "execution_count": 141,
   "id": "0e20c712",
   "metadata": {},
   "outputs": [
    {
     "data": {
      "text/plain": [
       "True"
      ]
     },
     "execution_count": 141,
     "metadata": {},
     "output_type": "execute_result"
    }
   ],
   "source": [
    "# Sets are equal iff their contents are equal:\n",
    "{1, 2, 3} == {3, 2, 1}"
   ]
  },
  {
   "cell_type": "markdown",
   "id": "0c51dc7b",
   "metadata": {},
   "source": [
    "### Comprehensions"
   ]
  },
  {
   "cell_type": "code",
   "execution_count": 143,
   "id": "b4639909",
   "metadata": {},
   "outputs": [],
   "source": [
    "# List comprehensions allow you to concisely form a new list by filtering the elements of a\n",
    "# collection, transforming the elements passing the filter, in one expression:\n",
    "# \n",
    "# result = [expression for value in collection if condition]\n",
    "# \n",
    "# # equivalent for loop:\n",
    "# result = []\n",
    "# for value in collection:\n",
    "#     if condition:\n",
    "#         result.append(expression)"
   ]
  },
  {
   "cell_type": "code",
   "execution_count": 144,
   "id": "4f5dc8b8",
   "metadata": {},
   "outputs": [
    {
     "data": {
      "text/plain": [
       "['BAT', 'CAR', 'DOVE', 'PYTHON']"
      ]
     },
     "execution_count": 144,
     "metadata": {},
     "output_type": "execute_result"
    }
   ],
   "source": [
    "strings = ['a', 'as', 'bat', 'car', 'dove', 'python']\n",
    "[x.upper() for x in strings if len(x) > 2]"
   ]
  },
  {
   "cell_type": "code",
   "execution_count": 146,
   "id": "3fec67b1",
   "metadata": {},
   "outputs": [],
   "source": [
    "# Set and dictionary comprehensions are natural extensions, producing sets and dicts in an\n",
    "# idiomatically similar way instead of lists:\n",
    "# \n",
    "# dict_comp = {key_expr: value_expr for value in collection if condition}\n",
    "#\n",
    "# set_comp = {expr for value in collection if condition}"
   ]
  },
  {
   "cell_type": "code",
   "execution_count": 147,
   "id": "f4c128c9",
   "metadata": {},
   "outputs": [],
   "source": [
    "# Suppose we have a list of lists containing some English and Spansih names:\n",
    "all_data = [['John', 'Emily', 'Michael', 'Mary', 'Steven'],\n",
    "            ['Maria', 'Juan', 'Javier', 'Natalia', 'Pilar']]"
   ]
  },
  {
   "cell_type": "code",
   "execution_count": 148,
   "id": "629b18b7",
   "metadata": {},
   "outputs": [],
   "source": [
    "# Now suppose we wanted to get a single list of all names with two or more\n",
    "# e's in them. We could do this with a for loop:\n",
    "names_of_interest = []\n",
    "for names in all_data:\n",
    "    enough_es = [name for name in names if name.count('e') >= 2]\n",
    "    names_of_interest.extend(enough_es)"
   ]
  },
  {
   "cell_type": "code",
   "execution_count": 149,
   "id": "373b6e10",
   "metadata": {},
   "outputs": [
    {
     "data": {
      "text/plain": [
       "['Steven']"
      ]
     },
     "execution_count": 149,
     "metadata": {},
     "output_type": "execute_result"
    }
   ],
   "source": [
    "names_of_interest"
   ]
  },
  {
   "cell_type": "code",
   "execution_count": 150,
   "id": "9a32551e",
   "metadata": {},
   "outputs": [],
   "source": [
    "# However, you can actually wrap this whole operation up in a single nested list\n",
    "# comprehension. The for parts of the comprehension are arranged according to the\n",
    "# order of nesting, and any filter condition is put at the end as before:\n",
    "result = [name for names in all_data for name in names if name.count('e') >= 2]"
   ]
  },
  {
   "cell_type": "code",
   "execution_count": 151,
   "id": "49310260",
   "metadata": {},
   "outputs": [
    {
     "data": {
      "text/plain": [
       "['Steven']"
      ]
     },
     "execution_count": 151,
     "metadata": {},
     "output_type": "execute_result"
    }
   ],
   "source": [
    "result"
   ]
  },
  {
   "cell_type": "markdown",
   "id": "395474e2",
   "metadata": {},
   "source": [
    "### Functions"
   ]
  },
  {
   "cell_type": "code",
   "execution_count": 1,
   "id": "03582b19",
   "metadata": {},
   "outputs": [],
   "source": [
    "# Functions are the primary and most important method of code organization and reuse\n",
    "# in Python. If you anticipate needing to repeat the same or very similar code more\n",
    "# than once, if may be worth writing a function"
   ]
  },
  {
   "cell_type": "code",
   "execution_count": 2,
   "id": "06942bba",
   "metadata": {},
   "outputs": [],
   "source": [
    "# To declare a function in Python:\n",
    "def my_function(x, y, z=1.5):\n",
    "    if z > 1:\n",
    "        return z * (x + y)\n",
    "    else:\n",
    "        return z / (x + y)"
   ]
  },
  {
   "cell_type": "code",
   "execution_count": 3,
   "id": "d96acb8e",
   "metadata": {},
   "outputs": [],
   "source": [
    "# Note that there is no issue with having multiple return statements. If Python reaches\n",
    "# the end of a function without encountering a return statement, None is returned."
   ]
  },
  {
   "cell_type": "code",
   "execution_count": 4,
   "id": "829d53bc",
   "metadata": {},
   "outputs": [],
   "source": [
    "# Each function can have positional arguments and keyword arguments. Keyword arguments\n",
    "# are used to specify default values or optional arguments. The main restriction here\n",
    "# is that keyword arguments must follow positional arguments, but you can specify the \n",
    "# keyword arguments in any order."
   ]
  },
  {
   "cell_type": "code",
   "execution_count": 5,
   "id": "8a631f1c",
   "metadata": {},
   "outputs": [],
   "source": [
    "# Functions can access variables in two different scopes: global and local. An alternative\n",
    "# and more descriptive name describing a variable scope is a namespace. Any variables that \n",
    "# are assigned within a function by default are assigned to the local namespace. The local\n",
    "# namespace is created when the function is called and immediately populated by the function's\n",
    "# arguments. After the function is finished, the local namespace is destroyed. "
   ]
  },
  {
   "cell_type": "code",
   "execution_count": 20,
   "id": "0500bf52",
   "metadata": {},
   "outputs": [],
   "source": [
    "# Assigning variables outside of the function's scope is possible, but they must be declared\n",
    "# as global:\n",
    "def bind_a_variable():\n",
    "    global a\n",
    "    a = []\n",
    "bind_a_variable()"
   ]
  },
  {
   "cell_type": "code",
   "execution_count": 21,
   "id": "12c3f941",
   "metadata": {},
   "outputs": [
    {
     "data": {
      "text/plain": [
       "[]"
      ]
     },
     "execution_count": 21,
     "metadata": {},
     "output_type": "execute_result"
    }
   ],
   "source": [
    "a"
   ]
  },
  {
   "cell_type": "code",
   "execution_count": 22,
   "id": "cfbd5387",
   "metadata": {},
   "outputs": [],
   "source": [
    "# You can return multiple values from a function:\n",
    "def f():\n",
    "    a = 5\n",
    "    b = 6\n",
    "    c = 7\n",
    "    return a, b, c\n",
    "a, b, c = f()"
   ]
  },
  {
   "cell_type": "code",
   "execution_count": 23,
   "id": "150b56c0",
   "metadata": {},
   "outputs": [],
   "source": [
    "# What's happening here is that the function is actually returning one object, a tuple. When\n",
    "# calling the function, you are unpacking the values into separate variables. "
   ]
  },
  {
   "cell_type": "code",
   "execution_count": 24,
   "id": "cdbae8ec",
   "metadata": {},
   "outputs": [],
   "source": [
    "# Since Python functions are objects, many constructs can be easily expressed that are difficult\n",
    "# to do in other languages. Consider the following list:\n",
    "states = [' Alabama ', 'Georgia!', 'Georgia', 'georgia', 'FlOrIda', 'south carolina##', 'West virginia?']"
   ]
  },
  {
   "cell_type": "code",
   "execution_count": 25,
   "id": "f5ac82aa",
   "metadata": {},
   "outputs": [],
   "source": [
    "# Suppose we wish to clean these list items. One way to do this is to use built-in string\n",
    "# methods along with the re standard library module for regular expressions. "
   ]
  },
  {
   "cell_type": "code",
   "execution_count": 26,
   "id": "3cbb6236",
   "metadata": {},
   "outputs": [],
   "source": [
    "import re\n",
    "\n",
    "def clean_strings(strings):\n",
    "    result = []\n",
    "    for value in strings:\n",
    "        value = value.strip()\n",
    "        value = re.sub('[!#?]', '', value)\n",
    "        value = value.title()\n",
    "        result.append(value)\n",
    "    return result"
   ]
  },
  {
   "cell_type": "code",
   "execution_count": 27,
   "id": "e4cf1915",
   "metadata": {},
   "outputs": [
    {
     "data": {
      "text/plain": [
       "['Alabama',\n",
       " 'Georgia',\n",
       " 'Georgia',\n",
       " 'Georgia',\n",
       " 'Florida',\n",
       " 'South Carolina',\n",
       " 'West Virginia']"
      ]
     },
     "execution_count": 27,
     "metadata": {},
     "output_type": "execute_result"
    }
   ],
   "source": [
    "clean_strings(states)"
   ]
  },
  {
   "cell_type": "code",
   "execution_count": null,
   "id": "565271ff",
   "metadata": {},
   "outputs": [],
   "source": [
    "# An alternative approach is to make a list of the operations you want to apply \n",
    "# to a particular set of strings:\n",
    "def remove_punctuation(value):\n",
    "    return re.sub('[!#?]', '', value)\n",
    "\n",
    "# Make a list of the functions (treat as objects)\n",
    "clean_ops = [str.strip, remove_punctuation, str.title]\n",
    "\n",
    "def clean_strings(strings, ops):\n",
    "    result = []\n",
    "    for value in strings:\n",
    "        for function in ops:\n",
    "            value = function(value)\n",
    "        result.append(value)"
   ]
  },
  {
   "cell_type": "code",
   "execution_count": 28,
   "id": "38504d24",
   "metadata": {},
   "outputs": [],
   "source": [
    "# A more functional pattern like this enables you to easily modify how the strings\n",
    "# are transformed at a very high level. "
   ]
  },
  {
   "cell_type": "code",
   "execution_count": 30,
   "id": "f5d22645",
   "metadata": {},
   "outputs": [],
   "source": [
    "# Python also has support for so-called anonymous or lambda functions, which are a\n",
    "# way of writing functions consisting of a single statement. \n",
    "\n",
    "# Using a regular function definition\n",
    "def short_function(x):\n",
    "    return x * 2\n",
    "\n",
    "# Equivalent action with a lambda function\n",
    "equiv_anon = lambda x: x * 2"
   ]
  },
  {
   "cell_type": "code",
   "execution_count": 31,
   "id": "e85a0641",
   "metadata": {},
   "outputs": [],
   "source": [
    "# Lambda functions are especially useful in data analysis because there are many \n",
    "# cases where data transformations will take functions as arguments. It's often\n",
    "# less typing to pass a lambda function as opposed to writing out a full function"
   ]
  },
  {
   "cell_type": "code",
   "execution_count": 32,
   "id": "53afd844",
   "metadata": {},
   "outputs": [],
   "source": [
    "def apply_to_list(some_list, f):\n",
    "    return [f(x) for x in some_list]"
   ]
  },
  {
   "cell_type": "code",
   "execution_count": 33,
   "id": "809eec39",
   "metadata": {},
   "outputs": [
    {
     "data": {
      "text/plain": [
       "[8, 0, 2, 10, 12]"
      ]
     },
     "execution_count": 33,
     "metadata": {},
     "output_type": "execute_result"
    }
   ],
   "source": [
    "ints = [4, 0, 1, 5, 6]\n",
    "apply_to_list(ints, lambda x: x * 2)"
   ]
  },
  {
   "cell_type": "code",
   "execution_count": 34,
   "id": "e95765a1",
   "metadata": {},
   "outputs": [
    {
     "data": {
      "text/plain": [
       "['aaaa', 'foo', 'abab', 'bar', 'card']"
      ]
     },
     "execution_count": 34,
     "metadata": {},
     "output_type": "execute_result"
    }
   ],
   "source": [
    "# As another example, suppose you wanted to sort a collection of strings by the\n",
    "# number of unique letters:\n",
    "strings = ['foo', 'card', 'bar', 'aaaa', 'abab']\n",
    "strings.sort(key=lambda x: len(set(list(x))))\n",
    "strings"
   ]
  },
  {
   "cell_type": "code",
   "execution_count": 35,
   "id": "19ef6853",
   "metadata": {},
   "outputs": [],
   "source": [
    "# Currying is computer science jargon that means deriving new functions from \n",
    "# existing ones by partial argument applications:\n",
    "\n",
    "# Define a function that takes two inputs\n",
    "def add_numbers(x, y):\n",
    "    return x + y\n",
    "\n",
    "# Curry up a new function that calls the previous function with partial inputs\n",
    "add_five = lambda y: add_numbers(5, y)"
   ]
  },
  {
   "cell_type": "code",
   "execution_count": 37,
   "id": "355a909f",
   "metadata": {},
   "outputs": [
    {
     "data": {
      "text/plain": [
       "12"
      ]
     },
     "execution_count": 37,
     "metadata": {},
     "output_type": "execute_result"
    }
   ],
   "source": [
    "add_five(7)"
   ]
  },
  {
   "cell_type": "code",
   "execution_count": 38,
   "id": "403b51f3",
   "metadata": {},
   "outputs": [],
   "source": [
    "# The built-in functools module can simplify this process using the partial function:\n",
    "from functools import partial\n",
    "add_five = partial(add_numbers, 5)"
   ]
  },
  {
   "cell_type": "code",
   "execution_count": 39,
   "id": "9cf322c9",
   "metadata": {},
   "outputs": [
    {
     "data": {
      "text/plain": [
       "12"
      ]
     },
     "execution_count": 39,
     "metadata": {},
     "output_type": "execute_result"
    }
   ],
   "source": [
    "add_five(7)"
   ]
  },
  {
   "cell_type": "markdown",
   "id": "3ad0ddab",
   "metadata": {},
   "source": [
    "### Generators"
   ]
  },
  {
   "cell_type": "code",
   "execution_count": 40,
   "id": "2086991c",
   "metadata": {},
   "outputs": [],
   "source": [
    "# Having a consistent way to iterate over sequences is accomplished by means of the \n",
    "# iterator protocol, a generic way to make objects iterable."
   ]
  },
  {
   "cell_type": "code",
   "execution_count": 41,
   "id": "cc8d0e66",
   "metadata": {},
   "outputs": [
    {
     "name": "stdout",
     "output_type": "stream",
     "text": [
      "a\n",
      "b\n",
      "c\n"
     ]
    }
   ],
   "source": [
    "some_dict = {'a': 1, 'b': 2, 'c': 3}\n",
    "for key in some_dict:\n",
    "    print(key)"
   ]
  },
  {
   "cell_type": "code",
   "execution_count": 42,
   "id": "4640736c",
   "metadata": {},
   "outputs": [
    {
     "data": {
      "text/plain": [
       "<dict_keyiterator at 0x25e9c4e0680>"
      ]
     },
     "execution_count": 42,
     "metadata": {},
     "output_type": "execute_result"
    }
   ],
   "source": [
    "# When you write the above, the Python interpreter first attempts to create an iterator\n",
    "# out of some_dict:\n",
    "dict_iterator = iter(some_dict)\n",
    "dict_iterator"
   ]
  },
  {
   "cell_type": "code",
   "execution_count": 43,
   "id": "51b8e8ad",
   "metadata": {},
   "outputs": [
    {
     "data": {
      "text/plain": [
       "['a', 'b', 'c']"
      ]
     },
     "execution_count": 43,
     "metadata": {},
     "output_type": "execute_result"
    }
   ],
   "source": [
    "# An iterator is any object that will yield objects to the interpreter when used in a\n",
    "# context like a loop. Most methods expecting a list or list-like object will also \n",
    "# accept any iterable object:\n",
    "list(dict_iterator)"
   ]
  },
  {
   "cell_type": "code",
   "execution_count": 45,
   "id": "f3f8ef90",
   "metadata": {},
   "outputs": [],
   "source": [
    "# A generator is a concise way to construct a new iterable object. Whereas normal \n",
    "# functions execute and return a single result at a time, generators return a \n",
    "# sequence of multiple results lazily, pausing after each one until the next one\n",
    "# is requested. To create a generator, use the 'yield' keyword instead of 'return'\n",
    "\n",
    "def squares(n=10):\n",
    "    print(f'Generating squares from 1 to {n ** 2}')\n",
    "    for i in range(1, n + 1):\n",
    "        yield i ** 2"
   ]
  },
  {
   "cell_type": "code",
   "execution_count": 50,
   "id": "f6b24950",
   "metadata": {},
   "outputs": [],
   "source": [
    "gen = squares()"
   ]
  },
  {
   "cell_type": "code",
   "execution_count": 51,
   "id": "67f2aac2",
   "metadata": {},
   "outputs": [
    {
     "name": "stdout",
     "output_type": "stream",
     "text": [
      "Generating squares from 1 to 100\n",
      "1 4 9 16 25 36 49 64 81 100 "
     ]
    }
   ],
   "source": [
    "# It is not until you request elements from the generator that it begins executing\n",
    "# the code:\n",
    "for x in gen:\n",
    "    print(x, end=' ', flush=False)"
   ]
  },
  {
   "cell_type": "code",
   "execution_count": 52,
   "id": "a9838b31",
   "metadata": {},
   "outputs": [],
   "source": [
    "# Another even more concise way to make a generator is by using a generator expression.\n",
    "# This is a generator analogue to list, dict, and set comprehensions:\n",
    "gen = (x ** 2 for x in range(100))"
   ]
  },
  {
   "cell_type": "code",
   "execution_count": 53,
   "id": "a430820b",
   "metadata": {},
   "outputs": [
    {
     "data": {
      "text/plain": [
       "<generator object <genexpr> at 0x0000025E9C4D1970>"
      ]
     },
     "execution_count": 53,
     "metadata": {},
     "output_type": "execute_result"
    }
   ],
   "source": [
    "gen"
   ]
  },
  {
   "cell_type": "code",
   "execution_count": 54,
   "id": "e28fcef5",
   "metadata": {},
   "outputs": [],
   "source": [
    "# This is completely equivalent to the following:\n",
    "def _make_gen():\n",
    "    for x in range(100):\n",
    "        yield x ** 2\n",
    "gen = _make_gen()"
   ]
  },
  {
   "cell_type": "code",
   "execution_count": 55,
   "id": "b0110fff",
   "metadata": {},
   "outputs": [
    {
     "data": {
      "text/plain": [
       "<generator object _make_gen at 0x0000025E9C4D1040>"
      ]
     },
     "execution_count": 55,
     "metadata": {},
     "output_type": "execute_result"
    }
   ],
   "source": [
    "gen"
   ]
  },
  {
   "cell_type": "code",
   "execution_count": 56,
   "id": "2768f442",
   "metadata": {},
   "outputs": [
    {
     "data": {
      "text/plain": [
       "328350"
      ]
     },
     "execution_count": 56,
     "metadata": {},
     "output_type": "execute_result"
    }
   ],
   "source": [
    "# Generator expressions can be used instead of list comprehensions as function\n",
    "# arguments in many cases:\n",
    "sum(x ** 2 for x in range(100))"
   ]
  },
  {
   "cell_type": "code",
   "execution_count": 57,
   "id": "effb06b8",
   "metadata": {},
   "outputs": [
    {
     "data": {
      "text/plain": [
       "{0: 0, 1: 1, 2: 4, 3: 9, 4: 16}"
      ]
     },
     "execution_count": 57,
     "metadata": {},
     "output_type": "execute_result"
    }
   ],
   "source": [
    "dict((i, i**2) for i in range(5))"
   ]
  },
  {
   "cell_type": "code",
   "execution_count": 59,
   "id": "4d06225b",
   "metadata": {},
   "outputs": [
    {
     "name": "stdout",
     "output_type": "stream",
     "text": [
      "A ['Alan', 'Adam']\n",
      "W ['Wes', 'Will']\n",
      "A ['Albert']\n",
      "S ['Steven']\n"
     ]
    }
   ],
   "source": [
    "# The standard library itertools module has a collection of generators for many\n",
    "# common data algorithms. For example, groupby takes any sequence and a function,\n",
    "# grouping consecutive elements in the sequence by return value of the function:\n",
    "import itertools\n",
    "\n",
    "first_letter = lambda x: x[0]\n",
    "\n",
    "names = ['Alan', 'Adam', 'Wes', 'Will', 'Albert', 'Steven']\n",
    "\n",
    "for letter, names in itertools.groupby(names, first_letter):\n",
    "    print(letter, list(names))"
   ]
  },
  {
   "cell_type": "markdown",
   "id": "5b476c35",
   "metadata": {},
   "source": [
    "### Exception Handling"
   ]
  },
  {
   "cell_type": "code",
   "execution_count": 60,
   "id": "cdc5928e",
   "metadata": {},
   "outputs": [],
   "source": [
    "# Handling errors or exceptions gracefully is an important part of building robust\n",
    "# programs. In data analysis, many functions only work on certain kinds of input.\n",
    "# Suppose we wanted a version of float() that fails gracefully, returning the \n",
    "# input argument:\n",
    "def attempt_float(x):\n",
    "    try:\n",
    "        return float(x)\n",
    "    except:\n",
    "        return x"
   ]
  },
  {
   "cell_type": "code",
   "execution_count": 61,
   "id": "6eeb9a10",
   "metadata": {},
   "outputs": [
    {
     "data": {
      "text/plain": [
       "1.2345"
      ]
     },
     "execution_count": 61,
     "metadata": {},
     "output_type": "execute_result"
    }
   ],
   "source": [
    "# The code in the except part of the block will only be executed if float(x)\n",
    "# raises an exception:\n",
    "attempt_float('1.2345')"
   ]
  },
  {
   "cell_type": "code",
   "execution_count": 62,
   "id": "c8bfdae3",
   "metadata": {},
   "outputs": [
    {
     "data": {
      "text/plain": [
       "'not a number'"
      ]
     },
     "execution_count": 62,
     "metadata": {},
     "output_type": "execute_result"
    }
   ],
   "source": [
    "attempt_float('not a number')"
   ]
  },
  {
   "cell_type": "code",
   "execution_count": 72,
   "id": "e6182657",
   "metadata": {},
   "outputs": [],
   "source": [
    "# You might want to only suppress ValueError, since a TypeError (the input was not\n",
    "# a string or numeric value) might indicate a legitimate bug in your program:\n",
    "def attempt_float(x):\n",
    "    try:\n",
    "        return float(x)\n",
    "    except ValueError:\n",
    "        return x"
   ]
  },
  {
   "cell_type": "code",
   "execution_count": 73,
   "id": "92562b2b",
   "metadata": {},
   "outputs": [],
   "source": [
    "# You can catch multiple exception types by writing a tuple of exception types \n",
    "# instead (parentheses are required):\n",
    "def attempt_float(x):\n",
    "    try:\n",
    "        return float(x)\n",
    "    except (TypeError, ValueError):\n",
    "        return x"
   ]
  },
  {
   "cell_type": "code",
   "execution_count": 74,
   "id": "42a0db64",
   "metadata": {},
   "outputs": [],
   "source": [
    "# In some cases, you may not want to suppress an exception, but you want some \n",
    "# code to be executed regardless of whether the code in the try block succeeds:\n",
    "f = open('some_file.txt', 'w')\n",
    "try:\n",
    "    f.write('Hello World!')\n",
    "# Here the file handle f will always get closed\n",
    "finally:\n",
    "    f.close()"
   ]
  },
  {
   "cell_type": "code",
   "execution_count": 75,
   "id": "7d2b8c42",
   "metadata": {},
   "outputs": [
    {
     "name": "stdout",
     "output_type": "stream",
     "text": [
      "Succeeded\n"
     ]
    }
   ],
   "source": [
    "# Similarly, you can have code that executes only if the try block succeeds:\n",
    "f = open('another_file.txt', 'w')\n",
    "try:\n",
    "    f.write('Hello World')\n",
    "except:\n",
    "    print('Failed')\n",
    "else:\n",
    "    print('Succeeded')\n",
    "finally:\n",
    "    f.close()"
   ]
  },
  {
   "cell_type": "markdown",
   "id": "72b0b5cd",
   "metadata": {},
   "source": [
    "### Files and the Operating System"
   ]
  },
  {
   "cell_type": "code",
   "execution_count": 84,
   "id": "c3c6ddd2",
   "metadata": {},
   "outputs": [],
   "source": [
    "# To open a file for reading and writing, use the built-in open() function\n",
    "# with either a relative or absolute path:\n",
    "\n",
    "path = r'H:\\Personal\\Python_for_Data_Analysis\\segismundo.txt'\n",
    "\n",
    "# Modes: 'r' for read (default), 'w' for write, and 'a' for append\n",
    "f = open(path)"
   ]
  },
  {
   "cell_type": "code",
   "execution_count": 85,
   "id": "6ec58cac",
   "metadata": {},
   "outputs": [],
   "source": [
    "# We can treat the file handle f like a list and iterate over the lines:\n",
    "for line in f:\n",
    "    pass"
   ]
  },
  {
   "cell_type": "code",
   "execution_count": 86,
   "id": "8c857277",
   "metadata": {},
   "outputs": [],
   "source": [
    "# The lines come out of the file with the EOL markers intact, so you'll\n",
    "# often see code to get an EOL-free list of lines:\n",
    "lines = [line.rstrip() for line in open(path)]"
   ]
  },
  {
   "cell_type": "code",
   "execution_count": 87,
   "id": "01d2f4ef",
   "metadata": {},
   "outputs": [
    {
     "data": {
      "text/plain": [
       "['SueÃ±a el rico en su riqueza',\n",
       " 'que mÃ¡s cuidados le ofrece',\n",
       " '',\n",
       " 'sueÃ±a el pobre que padece',\n",
       " 'su miseria y su pobreza',\n",
       " '',\n",
       " 'sueÃ±a el que a medrar empieza',\n",
       " 'sueÃ±a el que afana y pretende',\n",
       " 'sueÃ±a el que agravia y ofende',\n",
       " '',\n",
       " 'y en el mundo, en conclusiÃ³n',\n",
       " 'todos sueÃ±an lo que son',\n",
       " 'aunque ninguno lo entiende']"
      ]
     },
     "execution_count": 87,
     "metadata": {},
     "output_type": "execute_result"
    }
   ],
   "source": [
    "lines"
   ]
  },
  {
   "cell_type": "code",
   "execution_count": 88,
   "id": "6c6b04f0",
   "metadata": {},
   "outputs": [],
   "source": [
    "# When you use open to create file objects, it's important to explicitly close\n",
    "# the file when you're finished with it. Closing the file releases its resources \n",
    "# back to the operating system:\n",
    "f.close()"
   ]
  },
  {
   "cell_type": "code",
   "execution_count": 89,
   "id": "115e130d",
   "metadata": {},
   "outputs": [],
   "source": [
    "# One way to make it easier to clean up open files is to use the with statement,\n",
    "# which will automatically close the file f when exiting the with block:\n",
    "with open(path, encoding='utf8') as file_object:\n",
    "    lines = [line.rstrip() for line in file_object]"
   ]
  },
  {
   "cell_type": "code",
   "execution_count": 90,
   "id": "70b51957",
   "metadata": {},
   "outputs": [
    {
     "data": {
      "text/plain": [
       "['SueÃ±a el rico en su riqueza',\n",
       " 'que mÃ¡s cuidados le ofrece',\n",
       " '',\n",
       " 'sueÃ±a el pobre que padece',\n",
       " 'su miseria y su pobreza',\n",
       " '',\n",
       " 'sueÃ±a el que a medrar empieza',\n",
       " 'sueÃ±a el que afana y pretende',\n",
       " 'sueÃ±a el que agravia y ofende',\n",
       " '',\n",
       " 'y en el mundo, en conclusiÃ³n',\n",
       " 'todos sueÃ±an lo que son',\n",
       " 'aunque ninguno lo entiende']"
      ]
     },
     "execution_count": 90,
     "metadata": {},
     "output_type": "execute_result"
    }
   ],
   "source": [
    "lines"
   ]
  },
  {
   "cell_type": "code",
   "execution_count": 91,
   "id": "915a8d2a",
   "metadata": {},
   "outputs": [],
   "source": [
    "# When using write mode, a new file would have been created, overwriting any\n",
    "# one in its place. There is also the 'x' file mode, which creates a writable\n",
    "# file but fails if the file path already exists. "
   ]
  },
  {
   "cell_type": "code",
   "execution_count": 92,
   "id": "02e17053",
   "metadata": {},
   "outputs": [
    {
     "data": {
      "text/plain": [
       "'SueÃ±a el '"
      ]
     },
     "execution_count": 92,
     "metadata": {},
     "output_type": "execute_result"
    }
   ],
   "source": [
    "# For readable files, the most common methods are read, seek, and tell. \n",
    "# read returns a certain number of characters from the file. What constitutes\n",
    "# a character is determined by the file's encoding:\n",
    "file_object = open(path, encoding='utf8')\n",
    "file_object.read(10)"
   ]
  },
  {
   "cell_type": "code",
   "execution_count": 93,
   "id": "ac7e4957",
   "metadata": {},
   "outputs": [
    {
     "data": {
      "text/plain": [
       "10"
      ]
     },
     "execution_count": 93,
     "metadata": {},
     "output_type": "execute_result"
    }
   ],
   "source": [
    "# The read method advances the file handle's position by the number of bytes\n",
    "# read. tell gives you the current position:\n",
    "file_object.tell()"
   ]
  },
  {
   "cell_type": "code",
   "execution_count": 94,
   "id": "2c9ccc11",
   "metadata": {},
   "outputs": [
    {
     "data": {
      "text/plain": [
       "3"
      ]
     },
     "execution_count": 94,
     "metadata": {},
     "output_type": "execute_result"
    }
   ],
   "source": [
    "# seek changes the file position to the indicated byte in the file:\n",
    "file_object.seek(3)"
   ]
  },
  {
   "cell_type": "code",
   "execution_count": 95,
   "id": "5765d30d",
   "metadata": {},
   "outputs": [
    {
     "data": {
      "text/plain": [
       "'Ã'"
      ]
     },
     "execution_count": 95,
     "metadata": {},
     "output_type": "execute_result"
    }
   ],
   "source": [
    "file_object.read(1)"
   ]
  },
  {
   "cell_type": "code",
   "execution_count": 96,
   "id": "4934afe2",
   "metadata": {},
   "outputs": [],
   "source": [
    "file_object.close()"
   ]
  },
  {
   "cell_type": "code",
   "execution_count": 97,
   "id": "8fed53fb",
   "metadata": {},
   "outputs": [],
   "source": [
    "# The default behavior for Python files is 'text mode', which means that you\n",
    "# intend to work with Python strings (i.e., Unicode). This contrasts with \n",
    "# 'binary mode', which you can obtain by appending 'b' onto the file mode. "
   ]
  },
  {
   "cell_type": "code",
   "execution_count": 101,
   "id": "29089bf5",
   "metadata": {},
   "outputs": [],
   "source": [
    "with open(path, encoding='utf8') as file_object:\n",
    "    chars = file_object.read(10)"
   ]
  },
  {
   "cell_type": "code",
   "execution_count": 102,
   "id": "96ff13b0",
   "metadata": {},
   "outputs": [
    {
     "data": {
      "text/plain": [
       "'Sueña el r'"
      ]
     },
     "execution_count": 102,
     "metadata": {},
     "output_type": "execute_result"
    }
   ],
   "source": [
    "chars"
   ]
  },
  {
   "cell_type": "code",
   "execution_count": 103,
   "id": "39c57c7a",
   "metadata": {},
   "outputs": [],
   "source": [
    "# UTF-8 is a variable-length Unicode encoding, so when you request some number\n",
    "# of characters from the file, Python reads enough bytes (which could be as few\n",
    "# as 10 or as many as 40 bytes) from the file to decode that many characters. "
   ]
  },
  {
   "cell_type": "code",
   "execution_count": 105,
   "id": "f2b94bff",
   "metadata": {},
   "outputs": [],
   "source": [
    "# If you open the file in 'rb' mode instead, read requests exact number of bytes:\n",
    "with open(path, 'rb') as file_object:\n",
    "    data = file_object.read(10)"
   ]
  },
  {
   "cell_type": "code",
   "execution_count": 106,
   "id": "2c8f728b",
   "metadata": {},
   "outputs": [
    {
     "data": {
      "text/plain": [
       "b'Sue\\xc3\\xb1a el '"
      ]
     },
     "execution_count": 106,
     "metadata": {},
     "output_type": "execute_result"
    }
   ],
   "source": [
    "data"
   ]
  },
  {
   "cell_type": "code",
   "execution_count": 107,
   "id": "9c19c9b0",
   "metadata": {},
   "outputs": [
    {
     "data": {
      "text/plain": [
       "'Sueña el '"
      ]
     },
     "execution_count": 107,
     "metadata": {},
     "output_type": "execute_result"
    }
   ],
   "source": [
    "# Depending on the text encoding, you may be able to decode the bytes to a str \n",
    "# object, but only if each of the encoded Unicode characters is fully formed:\n",
    "data.decode('utf8')"
   ]
  },
  {
   "cell_type": "code",
   "execution_count": 109,
   "id": "b2d855b4",
   "metadata": {},
   "outputs": [
    {
     "ename": "UnicodeDecodeError",
     "evalue": "'utf-8' codec can't decode byte 0xb1 in position 0: invalid start byte",
     "output_type": "error",
     "traceback": [
      "\u001b[1;31m---------------------------------------------------------------------------\u001b[0m",
      "\u001b[1;31mUnicodeDecodeError\u001b[0m                        Traceback (most recent call last)",
      "\u001b[1;32m<ipython-input-109-a8231378bfc4>\u001b[0m in \u001b[0;36m<module>\u001b[1;34m\u001b[0m\n\u001b[0;32m      5\u001b[0m \u001b[0mfile_object\u001b[0m\u001b[1;33m.\u001b[0m\u001b[0mread\u001b[0m\u001b[1;33m(\u001b[0m\u001b[1;36m5\u001b[0m\u001b[1;33m)\u001b[0m\u001b[1;33m\u001b[0m\u001b[1;33m\u001b[0m\u001b[0m\n\u001b[0;32m      6\u001b[0m \u001b[0mfile_object\u001b[0m\u001b[1;33m.\u001b[0m\u001b[0mseek\u001b[0m\u001b[1;33m(\u001b[0m\u001b[1;36m4\u001b[0m\u001b[1;33m)\u001b[0m\u001b[1;33m\u001b[0m\u001b[1;33m\u001b[0m\u001b[0m\n\u001b[1;32m----> 7\u001b[1;33m \u001b[0mfile_object\u001b[0m\u001b[1;33m.\u001b[0m\u001b[0mread\u001b[0m\u001b[1;33m(\u001b[0m\u001b[1;36m1\u001b[0m\u001b[1;33m)\u001b[0m\u001b[1;33m\u001b[0m\u001b[1;33m\u001b[0m\u001b[0m\n\u001b[0m",
      "\u001b[1;32mC:\\Program Files\\Anaconda3\\lib\\codecs.py\u001b[0m in \u001b[0;36mdecode\u001b[1;34m(self, input, final)\u001b[0m\n\u001b[0;32m    320\u001b[0m         \u001b[1;31m# decode input (taking the buffer into account)\u001b[0m\u001b[1;33m\u001b[0m\u001b[1;33m\u001b[0m\u001b[1;33m\u001b[0m\u001b[0m\n\u001b[0;32m    321\u001b[0m         \u001b[0mdata\u001b[0m \u001b[1;33m=\u001b[0m \u001b[0mself\u001b[0m\u001b[1;33m.\u001b[0m\u001b[0mbuffer\u001b[0m \u001b[1;33m+\u001b[0m \u001b[0minput\u001b[0m\u001b[1;33m\u001b[0m\u001b[1;33m\u001b[0m\u001b[0m\n\u001b[1;32m--> 322\u001b[1;33m         \u001b[1;33m(\u001b[0m\u001b[0mresult\u001b[0m\u001b[1;33m,\u001b[0m \u001b[0mconsumed\u001b[0m\u001b[1;33m)\u001b[0m \u001b[1;33m=\u001b[0m \u001b[0mself\u001b[0m\u001b[1;33m.\u001b[0m\u001b[0m_buffer_decode\u001b[0m\u001b[1;33m(\u001b[0m\u001b[0mdata\u001b[0m\u001b[1;33m,\u001b[0m \u001b[0mself\u001b[0m\u001b[1;33m.\u001b[0m\u001b[0merrors\u001b[0m\u001b[1;33m,\u001b[0m \u001b[0mfinal\u001b[0m\u001b[1;33m)\u001b[0m\u001b[1;33m\u001b[0m\u001b[1;33m\u001b[0m\u001b[0m\n\u001b[0m\u001b[0;32m    323\u001b[0m         \u001b[1;31m# keep undecoded input until the next call\u001b[0m\u001b[1;33m\u001b[0m\u001b[1;33m\u001b[0m\u001b[1;33m\u001b[0m\u001b[0m\n\u001b[0;32m    324\u001b[0m         \u001b[0mself\u001b[0m\u001b[1;33m.\u001b[0m\u001b[0mbuffer\u001b[0m \u001b[1;33m=\u001b[0m \u001b[0mdata\u001b[0m\u001b[1;33m[\u001b[0m\u001b[0mconsumed\u001b[0m\u001b[1;33m:\u001b[0m\u001b[1;33m]\u001b[0m\u001b[1;33m\u001b[0m\u001b[1;33m\u001b[0m\u001b[0m\n",
      "\u001b[1;31mUnicodeDecodeError\u001b[0m: 'utf-8' codec can't decode byte 0xb1 in position 0: invalid start byte"
     ]
    }
   ],
   "source": [
    "# Beware using seek when opening files in any mode other than binary. If the file\n",
    "# position falls in the middle of the bytes defining a Unicode character, then\n",
    "# subsequent reads will result in an error:\n",
    "file_object = open(path, encoding='utf8')\n",
    "file_object.read(5)\n",
    "file_object.seek(4)\n",
    "file_object.read(1)"
   ]
  },
  {
   "cell_type": "code",
   "execution_count": null,
   "id": "36625a2b",
   "metadata": {},
   "outputs": [],
   "source": []
  }
 ],
 "metadata": {
  "kernelspec": {
   "display_name": "Python 3",
   "language": "python",
   "name": "python3"
  },
  "language_info": {
   "codemirror_mode": {
    "name": "ipython",
    "version": 3
   },
   "file_extension": ".py",
   "mimetype": "text/x-python",
   "name": "python",
   "nbconvert_exporter": "python",
   "pygments_lexer": "ipython3",
   "version": "3.8.8"
  }
 },
 "nbformat": 4,
 "nbformat_minor": 5
}
